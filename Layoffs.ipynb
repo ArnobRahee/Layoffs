{
  "nbformat": 4,
  "nbformat_minor": 0,
  "metadata": {
    "colab": {
      "provenance": [],
      "authorship_tag": "ABX9TyMold8fo5L75mKqaNGbLbEI",
      "include_colab_link": true
    },
    "kernelspec": {
      "name": "python3",
      "display_name": "Python 3"
    },
    "language_info": {
      "name": "python"
    }
  },
  "cells": [
    {
      "cell_type": "markdown",
      "metadata": {
        "id": "view-in-github",
        "colab_type": "text"
      },
      "source": [
        "<a href=\"https://colab.research.google.com/github/FrontEndForensics/Layoffs/blob/main/Layoffs.ipynb\" target=\"_parent\"><img src=\"https://colab.research.google.com/assets/colab-badge.svg\" alt=\"Open In Colab\"/></a>"
      ]
    },
    {
      "cell_type": "code",
      "execution_count": null,
      "metadata": {
        "colab": {
          "base_uri": "https://localhost:8080/",
          "height": 316
        },
        "id": "hkAAS9joeKSk",
        "outputId": "b414b770-5dea-48d9-9df6-3e220050048f"
      },
      "outputs": [
        {
          "output_type": "display_data",
          "data": {
            "text/plain": [
              "<IPython.core.display.HTML object>"
            ],
            "text/html": [
              "\n",
              "     <input type=\"file\" id=\"files-c5b9b4cc-441d-417d-8da4-63a329e86dd4\" name=\"files[]\" multiple disabled\n",
              "        style=\"border:none\" />\n",
              "     <output id=\"result-c5b9b4cc-441d-417d-8da4-63a329e86dd4\">\n",
              "      Upload widget is only available when the cell has been executed in the\n",
              "      current browser session. Please rerun this cell to enable.\n",
              "      </output>\n",
              "      <script>// Copyright 2017 Google LLC\n",
              "//\n",
              "// Licensed under the Apache License, Version 2.0 (the \"License\");\n",
              "// you may not use this file except in compliance with the License.\n",
              "// You may obtain a copy of the License at\n",
              "//\n",
              "//      http://www.apache.org/licenses/LICENSE-2.0\n",
              "//\n",
              "// Unless required by applicable law or agreed to in writing, software\n",
              "// distributed under the License is distributed on an \"AS IS\" BASIS,\n",
              "// WITHOUT WARRANTIES OR CONDITIONS OF ANY KIND, either express or implied.\n",
              "// See the License for the specific language governing permissions and\n",
              "// limitations under the License.\n",
              "\n",
              "/**\n",
              " * @fileoverview Helpers for google.colab Python module.\n",
              " */\n",
              "(function(scope) {\n",
              "function span(text, styleAttributes = {}) {\n",
              "  const element = document.createElement('span');\n",
              "  element.textContent = text;\n",
              "  for (const key of Object.keys(styleAttributes)) {\n",
              "    element.style[key] = styleAttributes[key];\n",
              "  }\n",
              "  return element;\n",
              "}\n",
              "\n",
              "// Max number of bytes which will be uploaded at a time.\n",
              "const MAX_PAYLOAD_SIZE = 100 * 1024;\n",
              "\n",
              "function _uploadFiles(inputId, outputId) {\n",
              "  const steps = uploadFilesStep(inputId, outputId);\n",
              "  const outputElement = document.getElementById(outputId);\n",
              "  // Cache steps on the outputElement to make it available for the next call\n",
              "  // to uploadFilesContinue from Python.\n",
              "  outputElement.steps = steps;\n",
              "\n",
              "  return _uploadFilesContinue(outputId);\n",
              "}\n",
              "\n",
              "// This is roughly an async generator (not supported in the browser yet),\n",
              "// where there are multiple asynchronous steps and the Python side is going\n",
              "// to poll for completion of each step.\n",
              "// This uses a Promise to block the python side on completion of each step,\n",
              "// then passes the result of the previous step as the input to the next step.\n",
              "function _uploadFilesContinue(outputId) {\n",
              "  const outputElement = document.getElementById(outputId);\n",
              "  const steps = outputElement.steps;\n",
              "\n",
              "  const next = steps.next(outputElement.lastPromiseValue);\n",
              "  return Promise.resolve(next.value.promise).then((value) => {\n",
              "    // Cache the last promise value to make it available to the next\n",
              "    // step of the generator.\n",
              "    outputElement.lastPromiseValue = value;\n",
              "    return next.value.response;\n",
              "  });\n",
              "}\n",
              "\n",
              "/**\n",
              " * Generator function which is called between each async step of the upload\n",
              " * process.\n",
              " * @param {string} inputId Element ID of the input file picker element.\n",
              " * @param {string} outputId Element ID of the output display.\n",
              " * @return {!Iterable<!Object>} Iterable of next steps.\n",
              " */\n",
              "function* uploadFilesStep(inputId, outputId) {\n",
              "  const inputElement = document.getElementById(inputId);\n",
              "  inputElement.disabled = false;\n",
              "\n",
              "  const outputElement = document.getElementById(outputId);\n",
              "  outputElement.innerHTML = '';\n",
              "\n",
              "  const pickedPromise = new Promise((resolve) => {\n",
              "    inputElement.addEventListener('change', (e) => {\n",
              "      resolve(e.target.files);\n",
              "    });\n",
              "  });\n",
              "\n",
              "  const cancel = document.createElement('button');\n",
              "  inputElement.parentElement.appendChild(cancel);\n",
              "  cancel.textContent = 'Cancel upload';\n",
              "  const cancelPromise = new Promise((resolve) => {\n",
              "    cancel.onclick = () => {\n",
              "      resolve(null);\n",
              "    };\n",
              "  });\n",
              "\n",
              "  // Wait for the user to pick the files.\n",
              "  const files = yield {\n",
              "    promise: Promise.race([pickedPromise, cancelPromise]),\n",
              "    response: {\n",
              "      action: 'starting',\n",
              "    }\n",
              "  };\n",
              "\n",
              "  cancel.remove();\n",
              "\n",
              "  // Disable the input element since further picks are not allowed.\n",
              "  inputElement.disabled = true;\n",
              "\n",
              "  if (!files) {\n",
              "    return {\n",
              "      response: {\n",
              "        action: 'complete',\n",
              "      }\n",
              "    };\n",
              "  }\n",
              "\n",
              "  for (const file of files) {\n",
              "    const li = document.createElement('li');\n",
              "    li.append(span(file.name, {fontWeight: 'bold'}));\n",
              "    li.append(span(\n",
              "        `(${file.type || 'n/a'}) - ${file.size} bytes, ` +\n",
              "        `last modified: ${\n",
              "            file.lastModifiedDate ? file.lastModifiedDate.toLocaleDateString() :\n",
              "                                    'n/a'} - `));\n",
              "    const percent = span('0% done');\n",
              "    li.appendChild(percent);\n",
              "\n",
              "    outputElement.appendChild(li);\n",
              "\n",
              "    const fileDataPromise = new Promise((resolve) => {\n",
              "      const reader = new FileReader();\n",
              "      reader.onload = (e) => {\n",
              "        resolve(e.target.result);\n",
              "      };\n",
              "      reader.readAsArrayBuffer(file);\n",
              "    });\n",
              "    // Wait for the data to be ready.\n",
              "    let fileData = yield {\n",
              "      promise: fileDataPromise,\n",
              "      response: {\n",
              "        action: 'continue',\n",
              "      }\n",
              "    };\n",
              "\n",
              "    // Use a chunked sending to avoid message size limits. See b/62115660.\n",
              "    let position = 0;\n",
              "    do {\n",
              "      const length = Math.min(fileData.byteLength - position, MAX_PAYLOAD_SIZE);\n",
              "      const chunk = new Uint8Array(fileData, position, length);\n",
              "      position += length;\n",
              "\n",
              "      const base64 = btoa(String.fromCharCode.apply(null, chunk));\n",
              "      yield {\n",
              "        response: {\n",
              "          action: 'append',\n",
              "          file: file.name,\n",
              "          data: base64,\n",
              "        },\n",
              "      };\n",
              "\n",
              "      let percentDone = fileData.byteLength === 0 ?\n",
              "          100 :\n",
              "          Math.round((position / fileData.byteLength) * 100);\n",
              "      percent.textContent = `${percentDone}% done`;\n",
              "\n",
              "    } while (position < fileData.byteLength);\n",
              "  }\n",
              "\n",
              "  // All done.\n",
              "  yield {\n",
              "    response: {\n",
              "      action: 'complete',\n",
              "    }\n",
              "  };\n",
              "}\n",
              "\n",
              "scope.google = scope.google || {};\n",
              "scope.google.colab = scope.google.colab || {};\n",
              "scope.google.colab._files = {\n",
              "  _uploadFiles,\n",
              "  _uploadFilesContinue,\n",
              "};\n",
              "})(self);\n",
              "</script> "
            ]
          },
          "metadata": {}
        },
        {
          "output_type": "stream",
          "name": "stdout",
          "text": [
            "Saving dataset2.csv to dataset2.csv\n",
            "Saving dataset3.csv to dataset3.csv\n",
            "Saving dataset4.csv to dataset4.csv\n",
            "Saving dataset5.csv to dataset5.csv\n",
            "Saving dataset6.csv to dataset6.csv\n",
            "Saving dataset7.csv to dataset7.csv\n",
            "Saving dataset8.csv to dataset8.csv\n",
            "Saving dataset9.csv to dataset9.csv\n"
          ]
        }
      ],
      "source": [
        "from google.colab import files\n",
        "uploaded = files.upload()"
      ]
    },
    {
      "cell_type": "code",
      "source": [
        "import pandas as pd\n",
        "import numpy as np\n",
        "import matplotlib.pyplot as plt\n",
        "import seaborn as sns\n"
      ],
      "metadata": {
        "id": "6WrRDRZ1hcNn"
      },
      "execution_count": null,
      "outputs": []
    },
    {
      "cell_type": "code",
      "source": [
        "pip install mice"
      ],
      "metadata": {
        "colab": {
          "base_uri": "https://localhost:8080/"
        },
        "id": "ljG4vpJSerd_",
        "outputId": "0b9b9e1b-9525-4450-c665-0148fcb16e37"
      },
      "execution_count": null,
      "outputs": [
        {
          "output_type": "stream",
          "name": "stdout",
          "text": [
            "Looking in indexes: https://pypi.org/simple, https://us-python.pkg.dev/colab-wheels/public/simple/\n",
            "Collecting mice\n",
            "  Downloading mice-0.1.30-py3-none-any.whl (25 kB)\n",
            "Requirement already satisfied: numpy>=1.19 in /usr/local/lib/python3.10/dist-packages (from mice) (1.22.4)\n",
            "Requirement already satisfied: scipy>=1.8.1 in /usr/local/lib/python3.10/dist-packages (from mice) (1.10.1)\n",
            "Requirement already satisfied: pandas>=1.1 in /usr/local/lib/python3.10/dist-packages (from mice) (1.5.3)\n",
            "Requirement already satisfied: matplotlib>=3.2.0 in /usr/local/lib/python3.10/dist-packages (from mice) (3.7.1)\n",
            "Requirement already satisfied: contourpy>=1.0.1 in /usr/local/lib/python3.10/dist-packages (from matplotlib>=3.2.0->mice) (1.1.0)\n",
            "Requirement already satisfied: cycler>=0.10 in /usr/local/lib/python3.10/dist-packages (from matplotlib>=3.2.0->mice) (0.11.0)\n",
            "Requirement already satisfied: fonttools>=4.22.0 in /usr/local/lib/python3.10/dist-packages (from matplotlib>=3.2.0->mice) (4.40.0)\n",
            "Requirement already satisfied: kiwisolver>=1.0.1 in /usr/local/lib/python3.10/dist-packages (from matplotlib>=3.2.0->mice) (1.4.4)\n",
            "Requirement already satisfied: packaging>=20.0 in /usr/local/lib/python3.10/dist-packages (from matplotlib>=3.2.0->mice) (23.1)\n",
            "Requirement already satisfied: pillow>=6.2.0 in /usr/local/lib/python3.10/dist-packages (from matplotlib>=3.2.0->mice) (8.4.0)\n",
            "Requirement already satisfied: pyparsing>=2.3.1 in /usr/local/lib/python3.10/dist-packages (from matplotlib>=3.2.0->mice) (3.1.0)\n",
            "Requirement already satisfied: python-dateutil>=2.7 in /usr/local/lib/python3.10/dist-packages (from matplotlib>=3.2.0->mice) (2.8.2)\n",
            "Requirement already satisfied: pytz>=2020.1 in /usr/local/lib/python3.10/dist-packages (from pandas>=1.1->mice) (2022.7.1)\n",
            "Requirement already satisfied: six>=1.5 in /usr/local/lib/python3.10/dist-packages (from python-dateutil>=2.7->matplotlib>=3.2.0->mice) (1.16.0)\n",
            "Installing collected packages: mice\n",
            "Successfully installed mice-0.1.30\n"
          ]
        }
      ]
    },
    {
      "cell_type": "code",
      "source": [
        "df2 = pd.read_csv(\"dataset2.csv\")\n",
        "df2.columns"
      ],
      "metadata": {
        "id": "7c_Y-TGuizb0",
        "colab": {
          "base_uri": "https://localhost:8080/"
        },
        "outputId": "532f9c0f-1d63-4eac-ed8e-ca244595aba9"
      },
      "execution_count": null,
      "outputs": [
        {
          "output_type": "execute_result",
          "data": {
            "text/plain": [
              "Index(['Company', 'Location_HQ', 'Industry', 'Percentage', 'Date', 'Source',\n",
              "       'Funds_Raised', 'Stage', 'Date_Added', 'Country', 'Laid_Off_Count',\n",
              "       'List_of_Employees_Laid_Off'],\n",
              "      dtype='object')"
            ]
          },
          "metadata": {},
          "execution_count": 7
        }
      ]
    },
    {
      "cell_type": "code",
      "source": [
        "df1 = pd.read_csv(\"dataset1.csv\")\n",
        "df1.columns"
      ],
      "metadata": {
        "id": "KBwtSymUpXEA",
        "colab": {
          "base_uri": "https://localhost:8080/"
        },
        "outputId": "6c1ff04f-9e58-4e0f-e5c5-7e24954419ec"
      },
      "execution_count": null,
      "outputs": [
        {
          "output_type": "execute_result",
          "data": {
            "text/plain": [
              "Index(['Company', 'Location_HQ', 'Industry', 'Laid_Off_Count', 'Percentage',\n",
              "       'Date', 'Source', 'Funds_Raised', 'Stage', 'Date_Added', 'Country',\n",
              "       'List_of_Employees_Laid_Off'],\n",
              "      dtype='object')"
            ]
          },
          "metadata": {},
          "execution_count": 9
        }
      ]
    },
    {
      "cell_type": "code",
      "source": [
        "#Work needs to be done\n",
        "#Create a column name Country\n",
        "#Change 'company' to 'Company'\n",
        "df3=pd.read_csv(\"dataset3.csv\")\n",
        "df3.columns"
      ],
      "metadata": {
        "id": "-w0tVU47tOVZ",
        "colab": {
          "base_uri": "https://localhost:8080/"
        },
        "outputId": "13d71aca-fccc-44c5-b2d6-b5ffba632919"
      },
      "execution_count": null,
      "outputs": [
        {
          "output_type": "execute_result",
          "data": {
            "text/plain": [
              "Index(['company', 'total_layoffs', 'impacted_workforce_percentage',\n",
              "       'reported_date', 'industry', 'headquarter_location', 'sources',\n",
              "       'status', 'additional_notes'],\n",
              "      dtype='object')"
            ]
          },
          "metadata": {},
          "execution_count": 49
        }
      ]
    },
    {
      "cell_type": "code",
      "source": [
        "#Change 'company' to 'Company'\n",
        "#Change 'country' to 'Country'\n",
        "df4=pd.read_csv(\"dataset4.csv\")\n",
        "df4.columns"
      ],
      "metadata": {
        "id": "wAOlMRu9zON2",
        "colab": {
          "base_uri": "https://localhost:8080/"
        },
        "outputId": "9aa2cb6e-0f69-48d5-806b-b47a91ce5351"
      },
      "execution_count": null,
      "outputs": [
        {
          "output_type": "execute_result",
          "data": {
            "text/plain": [
              "Index(['company', 'location', 'industry', 'total_laid_off',\n",
              "       'percentage_laid_off', 'date', 'stage', 'country', 'funds_raised'],\n",
              "      dtype='object')"
            ]
          },
          "metadata": {},
          "execution_count": 12
        }
      ]
    },
    {
      "cell_type": "code",
      "source": [
        "#Change 'company' to 'Company'\n",
        "#Change 'country' to 'Country'\n",
        "#Change 'Raised--$' to 'funds_raised'\n",
        "#Change 'laid off' to 'Laid_Off_Count'\n",
        "df5=pd.read_csv(\"dataset5.csv\")\n",
        "df5.columns"
      ],
      "metadata": {
        "id": "0c3QTSvbzUKW",
        "colab": {
          "base_uri": "https://localhost:8080/"
        },
        "outputId": "0fa0e1ac-0799-47be-f3ce-7f48c0262f28"
      },
      "execution_count": null,
      "outputs": [
        {
          "output_type": "execute_result",
          "data": {
            "text/plain": [
              "Index(['company', 'location', 'laid off', 'date', 'percentage', 'industry',\n",
              "       'stage', 'Raised--$', 'country'],\n",
              "      dtype='object')"
            ]
          },
          "metadata": {},
          "execution_count": 13
        }
      ]
    },
    {
      "cell_type": "code",
      "source": [
        "#Change 'company' to 'Company'\n",
        "#Change 'country' to 'Country'\n",
        "#Change 'total_laid_off' to 'Laid_Off_Count'\n",
        "df6=pd.read_csv(\"dataset6.csv\")\n",
        "df6.columns"
      ],
      "metadata": {
        "id": "crK_FERozaSH",
        "colab": {
          "base_uri": "https://localhost:8080/"
        },
        "outputId": "d6cf4bba-7ab5-45af-e042-aacb682c0315"
      },
      "execution_count": null,
      "outputs": [
        {
          "output_type": "execute_result",
          "data": {
            "text/plain": [
              "Index(['company', 'location', 'industry', 'total_laid_off', 'percentage',\n",
              "       'date', 'funds_raised', 'stage', 'country'],\n",
              "      dtype='object')"
            ]
          },
          "metadata": {},
          "execution_count": 14
        }
      ]
    },
    {
      "cell_type": "code",
      "source": [
        "df7=pd.read_csv(\"dataset7.csv\")\n",
        "df7.columns"
      ],
      "metadata": {
        "id": "Dx6Zpwda0PV8",
        "colab": {
          "base_uri": "https://localhost:8080/"
        },
        "outputId": "70c1b61b-d781-4c7d-a5ba-5eda8f86cf30"
      },
      "execution_count": null,
      "outputs": [
        {
          "output_type": "execute_result",
          "data": {
            "text/plain": [
              "Index(['company', 'location', 'industry', 'total_laid_off',\n",
              "       'percentage_laid_off', 'date', 'stage', 'country', 'funds_raised'],\n",
              "      dtype='object')"
            ]
          },
          "metadata": {},
          "execution_count": 15
        }
      ]
    },
    {
      "cell_type": "code",
      "source": [
        "df8=pd.read_csv(\"dataset8.csv\")\n",
        "df8[\"Percentage\"] = df8[\"Percentage\"].str.rstrip(\"%\")\n",
        "\n",
        "# Convert the percentage column to a float\n",
        "#Change 'Funds_Raised (Millions)' to 'funds_raised'\n",
        "df8[\"Percentage\"] = df8[\"Percentage\"].astype(float)\n",
        "df8.columns"
      ],
      "metadata": {
        "id": "FfltHNxn2ZJa",
        "colab": {
          "base_uri": "https://localhost:8080/"
        },
        "outputId": "abd8d8b4-bf46-48cd-aaa5-d0a3cbb84f96"
      },
      "execution_count": null,
      "outputs": [
        {
          "output_type": "execute_result",
          "data": {
            "text/plain": [
              "Index(['Company', 'Location_HQ', 'Industry', 'Laid_Off_Count', 'Percentage',\n",
              "       'Date', 'Source', 'Funds_Raised (Millions)', 'Stage', 'Date_Added',\n",
              "       'Country', 'List_of_Employees_Laid_Off', 'Sum of Employees',\n",
              "       'Average # of Employees Laid Off', 'Average Layoff %',\n",
              "       'Total Funds Raised', 'Average Funds Raised', 'Unnamed: 17',\n",
              "       'Unnamed: 18'],\n",
              "      dtype='object')"
            ]
          },
          "metadata": {},
          "execution_count": 16
        }
      ]
    },
    {
      "cell_type": "code",
      "source": [
        "#Change 'Total Laid Off' to 'Laid_Off_Count'\n",
        "df9=pd.read_csv(\"dataset9.csv\")\n",
        "df9.columns"
      ],
      "metadata": {
        "id": "Bz1rJdy7-psX",
        "colab": {
          "base_uri": "https://localhost:8080/"
        },
        "outputId": "f2533071-9934-4e8a-8de7-82368e957fd1"
      },
      "execution_count": null,
      "outputs": [
        {
          "output_type": "execute_result",
          "data": {
            "text/plain": [
              "Index(['Company', 'Total Laid Off', 'Date', 'Percentage', 'Industry',\n",
              "       'Country', 'Date Added'],\n",
              "      dtype='object')"
            ]
          },
          "metadata": {},
          "execution_count": 17
        }
      ]
    },
    {
      "cell_type": "code",
      "source": [
        "df9[\"Percentage\"] = df9[\"Percentage\"].str.rstrip(\"%\")\n",
        "\n",
        "# Convert the percentage column to a float\n",
        "df9[\"Percentage\"] = df9[\"Percentage\"].astype(float)"
      ],
      "metadata": {
        "id": "3aAa7VfgFqpF"
      },
      "execution_count": null,
      "outputs": []
    },
    {
      "cell_type": "markdown",
      "source": [
        "**Cleaning Data**"
      ],
      "metadata": {
        "id": "unIAjWkVj_5v"
      }
    },
    {
      "cell_type": "markdown",
      "source": [
        "Dropping Columns"
      ],
      "metadata": {
        "id": "6YndmdNXkRRl"
      }
    },
    {
      "cell_type": "code",
      "source": [
        "df1=df1.drop(['Location_HQ', 'Date', 'Source', 'Date_Added','List_of_Employees_Laid_Off'],axis=1)"
      ],
      "metadata": {
        "id": "jtlijI2ukDnS"
      },
      "execution_count": null,
      "outputs": []
    },
    {
      "cell_type": "code",
      "source": [
        "df2=df2.drop(['Location_HQ', 'Date', 'Source', 'Date_Added','List_of_Employees_Laid_Off'],axis=1)"
      ],
      "metadata": {
        "id": "URu0MHmYmU_7"
      },
      "execution_count": null,
      "outputs": []
    },
    {
      "cell_type": "code",
      "source": [
        "df3=df3.drop(['headquarter_location', 'sources','additional_notes','reported_date'],axis=1)"
      ],
      "metadata": {
        "id": "BbbmmbD1mj75"
      },
      "execution_count": null,
      "outputs": []
    },
    {
      "cell_type": "code",
      "source": [
        "df4=df4.drop(['location', 'date'],axis=1)"
      ],
      "metadata": {
        "id": "Cwc6oRnGnU-N"
      },
      "execution_count": null,
      "outputs": []
    },
    {
      "cell_type": "code",
      "source": [
        "df5=df5.drop(['location','date'],axis=1)"
      ],
      "metadata": {
        "id": "wD4ufYrVpCrE"
      },
      "execution_count": null,
      "outputs": []
    },
    {
      "cell_type": "code",
      "source": [
        "df6=df6.drop(['location','date'], axis=1)"
      ],
      "metadata": {
        "id": "7F1OvnuvpabA"
      },
      "execution_count": null,
      "outputs": []
    },
    {
      "cell_type": "code",
      "source": [
        "df7=df7.drop(['location','date'], axis=1)"
      ],
      "metadata": {
        "id": "ZZIFDxvbqRci"
      },
      "execution_count": null,
      "outputs": []
    },
    {
      "cell_type": "code",
      "source": [
        "df8=df8.drop(['Location_HQ','List_of_Employees_Laid_Off', 'Sum of Employees','Average # of Employees Laid Off', 'Average Layoff %','Date_Added','Average Funds Raised','Source',\n",
        "'Unnamed: 17',\t'Unnamed: 18','Date'],axis=1)"
      ],
      "metadata": {
        "id": "UqeGZYdqqc6a"
      },
      "execution_count": null,
      "outputs": []
    },
    {
      "cell_type": "code",
      "source": [
        "df9=df9.drop(['Date','Date Added'],axis=1)"
      ],
      "metadata": {
        "id": "mRAyZJpIs6MV"
      },
      "execution_count": null,
      "outputs": []
    },
    {
      "cell_type": "markdown",
      "source": [
        "Changing column names"
      ],
      "metadata": {
        "id": "RLsgBpeEu8-t"
      }
    },
    {
      "cell_type": "code",
      "source": [],
      "metadata": {
        "id": "mIQet6yavBjn"
      },
      "execution_count": null,
      "outputs": []
    },
    {
      "cell_type": "markdown",
      "source": [
        "Combining datasets"
      ],
      "metadata": {
        "id": "5qkPyxQzpz86"
      }
    },
    {
      "cell_type": "code",
      "source": [
        "frames = [df1, df2,df3,df4,df5,df6,df7,df8,df9]\n",
        "dfcombined=pd.concat(frames)"
      ],
      "metadata": {
        "id": "tBnac2IzpqSc"
      },
      "execution_count": null,
      "outputs": []
    },
    {
      "cell_type": "code",
      "source": [
        "dfcombined.tail()"
      ],
      "metadata": {
        "colab": {
          "base_uri": "https://localhost:8080/",
          "height": 421
        },
        "id": "ChssvyKO_FCQ",
        "outputId": "42a3eb19-eba1-44b3-b8d9-aa242aecb006"
      },
      "execution_count": null,
      "outputs": [
        {
          "output_type": "execute_result",
          "data": {
            "text/plain": [
              "                Company   Industry  Laid_Off_Count  Percentage  Funds_Raised  \\\n",
              "2205            Patreon      Media             NaN         NaN           NaN   \n",
              "2206         CommonBond    Finance             NaN       100.0           NaN   \n",
              "2207  DreamBox Learning  Education             NaN         NaN           NaN   \n",
              "2208            Flowhub     Retail             NaN        15.0           NaN   \n",
              "2209        UNIQUE 1803        NaN             NaN         NaN           NaN   \n",
              "\n",
              "     Stage        Country company total_layoffs impacted_workforce_percentage  \\\n",
              "2205   NaN  United States     NaN           NaN                           NaN   \n",
              "2206   NaN  United States     NaN           NaN                           NaN   \n",
              "2207   NaN  United States     NaN           NaN                           NaN   \n",
              "2208   NaN  United States     NaN           NaN                           NaN   \n",
              "2209   NaN            NaN     NaN           NaN                           NaN   \n",
              "\n",
              "      ... percentage_laid_off stage  country  funds_raised laid off  \\\n",
              "2205  ...                 NaN   NaN      NaN           NaN      NaN   \n",
              "2206  ...                 NaN   NaN      NaN           NaN      NaN   \n",
              "2207  ...                 NaN   NaN      NaN           NaN      NaN   \n",
              "2208  ...                 NaN   NaN      NaN           NaN      NaN   \n",
              "2209  ...                 NaN   NaN      NaN           NaN      NaN   \n",
              "\n",
              "     percentage  Raised--$  Funds_Raised (Millions)  Total Funds Raised  \\\n",
              "2205        NaN        NaN                      NaN                 NaN   \n",
              "2206        NaN        NaN                      NaN                 NaN   \n",
              "2207        NaN        NaN                      NaN                 NaN   \n",
              "2208        NaN        NaN                      NaN                 NaN   \n",
              "2209        NaN        NaN                      NaN                 NaN   \n",
              "\n",
              "      Total Laid Off  \n",
              "2205               5  \n",
              "2206             NaN  \n",
              "2207             NaN  \n",
              "2208             NaN  \n",
              "2209      SUM 360685  \n",
              "\n",
              "[5 rows x 23 columns]"
            ],
            "text/html": [
              "\n",
              "  <div id=\"df-dae43a18-c3fa-493b-b156-fc466deef396\">\n",
              "    <div class=\"colab-df-container\">\n",
              "      <div>\n",
              "<style scoped>\n",
              "    .dataframe tbody tr th:only-of-type {\n",
              "        vertical-align: middle;\n",
              "    }\n",
              "\n",
              "    .dataframe tbody tr th {\n",
              "        vertical-align: top;\n",
              "    }\n",
              "\n",
              "    .dataframe thead th {\n",
              "        text-align: right;\n",
              "    }\n",
              "</style>\n",
              "<table border=\"1\" class=\"dataframe\">\n",
              "  <thead>\n",
              "    <tr style=\"text-align: right;\">\n",
              "      <th></th>\n",
              "      <th>Company</th>\n",
              "      <th>Industry</th>\n",
              "      <th>Laid_Off_Count</th>\n",
              "      <th>Percentage</th>\n",
              "      <th>Funds_Raised</th>\n",
              "      <th>Stage</th>\n",
              "      <th>Country</th>\n",
              "      <th>company</th>\n",
              "      <th>total_layoffs</th>\n",
              "      <th>impacted_workforce_percentage</th>\n",
              "      <th>...</th>\n",
              "      <th>percentage_laid_off</th>\n",
              "      <th>stage</th>\n",
              "      <th>country</th>\n",
              "      <th>funds_raised</th>\n",
              "      <th>laid off</th>\n",
              "      <th>percentage</th>\n",
              "      <th>Raised--$</th>\n",
              "      <th>Funds_Raised (Millions)</th>\n",
              "      <th>Total Funds Raised</th>\n",
              "      <th>Total Laid Off</th>\n",
              "    </tr>\n",
              "  </thead>\n",
              "  <tbody>\n",
              "    <tr>\n",
              "      <th>2205</th>\n",
              "      <td>Patreon</td>\n",
              "      <td>Media</td>\n",
              "      <td>NaN</td>\n",
              "      <td>NaN</td>\n",
              "      <td>NaN</td>\n",
              "      <td>NaN</td>\n",
              "      <td>United States</td>\n",
              "      <td>NaN</td>\n",
              "      <td>NaN</td>\n",
              "      <td>NaN</td>\n",
              "      <td>...</td>\n",
              "      <td>NaN</td>\n",
              "      <td>NaN</td>\n",
              "      <td>NaN</td>\n",
              "      <td>NaN</td>\n",
              "      <td>NaN</td>\n",
              "      <td>NaN</td>\n",
              "      <td>NaN</td>\n",
              "      <td>NaN</td>\n",
              "      <td>NaN</td>\n",
              "      <td>5</td>\n",
              "    </tr>\n",
              "    <tr>\n",
              "      <th>2206</th>\n",
              "      <td>CommonBond</td>\n",
              "      <td>Finance</td>\n",
              "      <td>NaN</td>\n",
              "      <td>100.0</td>\n",
              "      <td>NaN</td>\n",
              "      <td>NaN</td>\n",
              "      <td>United States</td>\n",
              "      <td>NaN</td>\n",
              "      <td>NaN</td>\n",
              "      <td>NaN</td>\n",
              "      <td>...</td>\n",
              "      <td>NaN</td>\n",
              "      <td>NaN</td>\n",
              "      <td>NaN</td>\n",
              "      <td>NaN</td>\n",
              "      <td>NaN</td>\n",
              "      <td>NaN</td>\n",
              "      <td>NaN</td>\n",
              "      <td>NaN</td>\n",
              "      <td>NaN</td>\n",
              "      <td>NaN</td>\n",
              "    </tr>\n",
              "    <tr>\n",
              "      <th>2207</th>\n",
              "      <td>DreamBox Learning</td>\n",
              "      <td>Education</td>\n",
              "      <td>NaN</td>\n",
              "      <td>NaN</td>\n",
              "      <td>NaN</td>\n",
              "      <td>NaN</td>\n",
              "      <td>United States</td>\n",
              "      <td>NaN</td>\n",
              "      <td>NaN</td>\n",
              "      <td>NaN</td>\n",
              "      <td>...</td>\n",
              "      <td>NaN</td>\n",
              "      <td>NaN</td>\n",
              "      <td>NaN</td>\n",
              "      <td>NaN</td>\n",
              "      <td>NaN</td>\n",
              "      <td>NaN</td>\n",
              "      <td>NaN</td>\n",
              "      <td>NaN</td>\n",
              "      <td>NaN</td>\n",
              "      <td>NaN</td>\n",
              "    </tr>\n",
              "    <tr>\n",
              "      <th>2208</th>\n",
              "      <td>Flowhub</td>\n",
              "      <td>Retail</td>\n",
              "      <td>NaN</td>\n",
              "      <td>15.0</td>\n",
              "      <td>NaN</td>\n",
              "      <td>NaN</td>\n",
              "      <td>United States</td>\n",
              "      <td>NaN</td>\n",
              "      <td>NaN</td>\n",
              "      <td>NaN</td>\n",
              "      <td>...</td>\n",
              "      <td>NaN</td>\n",
              "      <td>NaN</td>\n",
              "      <td>NaN</td>\n",
              "      <td>NaN</td>\n",
              "      <td>NaN</td>\n",
              "      <td>NaN</td>\n",
              "      <td>NaN</td>\n",
              "      <td>NaN</td>\n",
              "      <td>NaN</td>\n",
              "      <td>NaN</td>\n",
              "    </tr>\n",
              "    <tr>\n",
              "      <th>2209</th>\n",
              "      <td>UNIQUE 1803</td>\n",
              "      <td>NaN</td>\n",
              "      <td>NaN</td>\n",
              "      <td>NaN</td>\n",
              "      <td>NaN</td>\n",
              "      <td>NaN</td>\n",
              "      <td>NaN</td>\n",
              "      <td>NaN</td>\n",
              "      <td>NaN</td>\n",
              "      <td>NaN</td>\n",
              "      <td>...</td>\n",
              "      <td>NaN</td>\n",
              "      <td>NaN</td>\n",
              "      <td>NaN</td>\n",
              "      <td>NaN</td>\n",
              "      <td>NaN</td>\n",
              "      <td>NaN</td>\n",
              "      <td>NaN</td>\n",
              "      <td>NaN</td>\n",
              "      <td>NaN</td>\n",
              "      <td>SUM 360685</td>\n",
              "    </tr>\n",
              "  </tbody>\n",
              "</table>\n",
              "<p>5 rows × 23 columns</p>\n",
              "</div>\n",
              "      <button class=\"colab-df-convert\" onclick=\"convertToInteractive('df-dae43a18-c3fa-493b-b156-fc466deef396')\"\n",
              "              title=\"Convert this dataframe to an interactive table.\"\n",
              "              style=\"display:none;\">\n",
              "        \n",
              "  <svg xmlns=\"http://www.w3.org/2000/svg\" height=\"24px\"viewBox=\"0 0 24 24\"\n",
              "       width=\"24px\">\n",
              "    <path d=\"M0 0h24v24H0V0z\" fill=\"none\"/>\n",
              "    <path d=\"M18.56 5.44l.94 2.06.94-2.06 2.06-.94-2.06-.94-.94-2.06-.94 2.06-2.06.94zm-11 1L8.5 8.5l.94-2.06 2.06-.94-2.06-.94L8.5 2.5l-.94 2.06-2.06.94zm10 10l.94 2.06.94-2.06 2.06-.94-2.06-.94-.94-2.06-.94 2.06-2.06.94z\"/><path d=\"M17.41 7.96l-1.37-1.37c-.4-.4-.92-.59-1.43-.59-.52 0-1.04.2-1.43.59L10.3 9.45l-7.72 7.72c-.78.78-.78 2.05 0 2.83L4 21.41c.39.39.9.59 1.41.59.51 0 1.02-.2 1.41-.59l7.78-7.78 2.81-2.81c.8-.78.8-2.07 0-2.86zM5.41 20L4 18.59l7.72-7.72 1.47 1.35L5.41 20z\"/>\n",
              "  </svg>\n",
              "      </button>\n",
              "      \n",
              "  <style>\n",
              "    .colab-df-container {\n",
              "      display:flex;\n",
              "      flex-wrap:wrap;\n",
              "      gap: 12px;\n",
              "    }\n",
              "\n",
              "    .colab-df-convert {\n",
              "      background-color: #E8F0FE;\n",
              "      border: none;\n",
              "      border-radius: 50%;\n",
              "      cursor: pointer;\n",
              "      display: none;\n",
              "      fill: #1967D2;\n",
              "      height: 32px;\n",
              "      padding: 0 0 0 0;\n",
              "      width: 32px;\n",
              "    }\n",
              "\n",
              "    .colab-df-convert:hover {\n",
              "      background-color: #E2EBFA;\n",
              "      box-shadow: 0px 1px 2px rgba(60, 64, 67, 0.3), 0px 1px 3px 1px rgba(60, 64, 67, 0.15);\n",
              "      fill: #174EA6;\n",
              "    }\n",
              "\n",
              "    [theme=dark] .colab-df-convert {\n",
              "      background-color: #3B4455;\n",
              "      fill: #D2E3FC;\n",
              "    }\n",
              "\n",
              "    [theme=dark] .colab-df-convert:hover {\n",
              "      background-color: #434B5C;\n",
              "      box-shadow: 0px 1px 3px 1px rgba(0, 0, 0, 0.15);\n",
              "      filter: drop-shadow(0px 1px 2px rgba(0, 0, 0, 0.3));\n",
              "      fill: #FFFFFF;\n",
              "    }\n",
              "  </style>\n",
              "\n",
              "      <script>\n",
              "        const buttonEl =\n",
              "          document.querySelector('#df-dae43a18-c3fa-493b-b156-fc466deef396 button.colab-df-convert');\n",
              "        buttonEl.style.display =\n",
              "          google.colab.kernel.accessAllowed ? 'block' : 'none';\n",
              "\n",
              "        async function convertToInteractive(key) {\n",
              "          const element = document.querySelector('#df-dae43a18-c3fa-493b-b156-fc466deef396');\n",
              "          const dataTable =\n",
              "            await google.colab.kernel.invokeFunction('convertToInteractive',\n",
              "                                                     [key], {});\n",
              "          if (!dataTable) return;\n",
              "\n",
              "          const docLinkHtml = 'Like what you see? Visit the ' +\n",
              "            '<a target=\"_blank\" href=https://colab.research.google.com/notebooks/data_table.ipynb>data table notebook</a>'\n",
              "            + ' to learn more about interactive tables.';\n",
              "          element.innerHTML = '';\n",
              "          dataTable['output_type'] = 'display_data';\n",
              "          await google.colab.output.renderOutput(dataTable, element);\n",
              "          const docLink = document.createElement('div');\n",
              "          docLink.innerHTML = docLinkHtml;\n",
              "          element.appendChild(docLink);\n",
              "        }\n",
              "      </script>\n",
              "    </div>\n",
              "  </div>\n",
              "  "
            ]
          },
          "metadata": {},
          "execution_count": 46
        }
      ]
    },
    {
      "cell_type": "code",
      "source": [
        "dfcombined=dfcombined.drop_duplicates()"
      ],
      "metadata": {
        "id": "a7w1c_KmqJML"
      },
      "execution_count": null,
      "outputs": []
    },
    {
      "cell_type": "code",
      "source": [
        "print(len(dfcombined))"
      ],
      "metadata": {
        "colab": {
          "base_uri": "https://localhost:8080/"
        },
        "id": "mnG9kI2tny8x",
        "outputId": "67049b81-7a9f-49a4-deb7-0114d684c3e1"
      },
      "execution_count": null,
      "outputs": [
        {
          "output_type": "stream",
          "name": "stdout",
          "text": [
            "11264\n"
          ]
        }
      ]
    },
    {
      "cell_type": "markdown",
      "source": [
        "***MICE algorithm***"
      ],
      "metadata": {
        "id": "m-FKDT3bjpwH"
      }
    },
    {
      "cell_type": "code",
      "source": [
        "from sklearn.experimental import enable_iterative_imputer\n",
        "from sklearn.impute import IterativeImputer\n"
      ],
      "metadata": {
        "id": "v5oG4cHCLkkk"
      },
      "execution_count": null,
      "outputs": []
    },
    {
      "cell_type": "code",
      "source": [
        "imputer = IterativeImputer(random_state=100, max_iter=10)"
      ],
      "metadata": {
        "id": "mhwqdb37jwG4"
      },
      "execution_count": null,
      "outputs": []
    },
    {
      "cell_type": "code",
      "source": [
        "df_train = dfcombined.loc[:, [\"Funds_Raised\", \"Laid_Off_Count\", \"Percentage\"]]\n",
        "df_train.head()"
      ],
      "metadata": {
        "colab": {
          "base_uri": "https://localhost:8080/",
          "height": 206
        },
        "id": "F9ZUsM_ej0UJ",
        "outputId": "a62774f7-a623-4294-f021-47a529e77945"
      },
      "execution_count": null,
      "outputs": [
        {
          "output_type": "execute_result",
          "data": {
            "text/plain": [
              "   Funds_Raised  Laid_Off_Count  Percentage\n",
              "0         891.0           155.0        0.12\n",
              "1         484.0             NaN         NaN\n",
              "2        4100.0           296.0         NaN\n",
              "3         349.0             NaN        0.08\n",
              "4           NaN           196.0         NaN"
            ],
            "text/html": [
              "\n",
              "  <div id=\"df-f68bfcd9-c52b-4bcc-bb23-8c0b5ed8f4d7\">\n",
              "    <div class=\"colab-df-container\">\n",
              "      <div>\n",
              "<style scoped>\n",
              "    .dataframe tbody tr th:only-of-type {\n",
              "        vertical-align: middle;\n",
              "    }\n",
              "\n",
              "    .dataframe tbody tr th {\n",
              "        vertical-align: top;\n",
              "    }\n",
              "\n",
              "    .dataframe thead th {\n",
              "        text-align: right;\n",
              "    }\n",
              "</style>\n",
              "<table border=\"1\" class=\"dataframe\">\n",
              "  <thead>\n",
              "    <tr style=\"text-align: right;\">\n",
              "      <th></th>\n",
              "      <th>Funds_Raised</th>\n",
              "      <th>Laid_Off_Count</th>\n",
              "      <th>Percentage</th>\n",
              "    </tr>\n",
              "  </thead>\n",
              "  <tbody>\n",
              "    <tr>\n",
              "      <th>0</th>\n",
              "      <td>891.0</td>\n",
              "      <td>155.0</td>\n",
              "      <td>0.12</td>\n",
              "    </tr>\n",
              "    <tr>\n",
              "      <th>1</th>\n",
              "      <td>484.0</td>\n",
              "      <td>NaN</td>\n",
              "      <td>NaN</td>\n",
              "    </tr>\n",
              "    <tr>\n",
              "      <th>2</th>\n",
              "      <td>4100.0</td>\n",
              "      <td>296.0</td>\n",
              "      <td>NaN</td>\n",
              "    </tr>\n",
              "    <tr>\n",
              "      <th>3</th>\n",
              "      <td>349.0</td>\n",
              "      <td>NaN</td>\n",
              "      <td>0.08</td>\n",
              "    </tr>\n",
              "    <tr>\n",
              "      <th>4</th>\n",
              "      <td>NaN</td>\n",
              "      <td>196.0</td>\n",
              "      <td>NaN</td>\n",
              "    </tr>\n",
              "  </tbody>\n",
              "</table>\n",
              "</div>\n",
              "      <button class=\"colab-df-convert\" onclick=\"convertToInteractive('df-f68bfcd9-c52b-4bcc-bb23-8c0b5ed8f4d7')\"\n",
              "              title=\"Convert this dataframe to an interactive table.\"\n",
              "              style=\"display:none;\">\n",
              "        \n",
              "  <svg xmlns=\"http://www.w3.org/2000/svg\" height=\"24px\"viewBox=\"0 0 24 24\"\n",
              "       width=\"24px\">\n",
              "    <path d=\"M0 0h24v24H0V0z\" fill=\"none\"/>\n",
              "    <path d=\"M18.56 5.44l.94 2.06.94-2.06 2.06-.94-2.06-.94-.94-2.06-.94 2.06-2.06.94zm-11 1L8.5 8.5l.94-2.06 2.06-.94-2.06-.94L8.5 2.5l-.94 2.06-2.06.94zm10 10l.94 2.06.94-2.06 2.06-.94-2.06-.94-.94-2.06-.94 2.06-2.06.94z\"/><path d=\"M17.41 7.96l-1.37-1.37c-.4-.4-.92-.59-1.43-.59-.52 0-1.04.2-1.43.59L10.3 9.45l-7.72 7.72c-.78.78-.78 2.05 0 2.83L4 21.41c.39.39.9.59 1.41.59.51 0 1.02-.2 1.41-.59l7.78-7.78 2.81-2.81c.8-.78.8-2.07 0-2.86zM5.41 20L4 18.59l7.72-7.72 1.47 1.35L5.41 20z\"/>\n",
              "  </svg>\n",
              "      </button>\n",
              "      \n",
              "  <style>\n",
              "    .colab-df-container {\n",
              "      display:flex;\n",
              "      flex-wrap:wrap;\n",
              "      gap: 12px;\n",
              "    }\n",
              "\n",
              "    .colab-df-convert {\n",
              "      background-color: #E8F0FE;\n",
              "      border: none;\n",
              "      border-radius: 50%;\n",
              "      cursor: pointer;\n",
              "      display: none;\n",
              "      fill: #1967D2;\n",
              "      height: 32px;\n",
              "      padding: 0 0 0 0;\n",
              "      width: 32px;\n",
              "    }\n",
              "\n",
              "    .colab-df-convert:hover {\n",
              "      background-color: #E2EBFA;\n",
              "      box-shadow: 0px 1px 2px rgba(60, 64, 67, 0.3), 0px 1px 3px 1px rgba(60, 64, 67, 0.15);\n",
              "      fill: #174EA6;\n",
              "    }\n",
              "\n",
              "    [theme=dark] .colab-df-convert {\n",
              "      background-color: #3B4455;\n",
              "      fill: #D2E3FC;\n",
              "    }\n",
              "\n",
              "    [theme=dark] .colab-df-convert:hover {\n",
              "      background-color: #434B5C;\n",
              "      box-shadow: 0px 1px 3px 1px rgba(0, 0, 0, 0.15);\n",
              "      filter: drop-shadow(0px 1px 2px rgba(0, 0, 0, 0.3));\n",
              "      fill: #FFFFFF;\n",
              "    }\n",
              "  </style>\n",
              "\n",
              "      <script>\n",
              "        const buttonEl =\n",
              "          document.querySelector('#df-f68bfcd9-c52b-4bcc-bb23-8c0b5ed8f4d7 button.colab-df-convert');\n",
              "        buttonEl.style.display =\n",
              "          google.colab.kernel.accessAllowed ? 'block' : 'none';\n",
              "\n",
              "        async function convertToInteractive(key) {\n",
              "          const element = document.querySelector('#df-f68bfcd9-c52b-4bcc-bb23-8c0b5ed8f4d7');\n",
              "          const dataTable =\n",
              "            await google.colab.kernel.invokeFunction('convertToInteractive',\n",
              "                                                     [key], {});\n",
              "          if (!dataTable) return;\n",
              "\n",
              "          const docLinkHtml = 'Like what you see? Visit the ' +\n",
              "            '<a target=\"_blank\" href=https://colab.research.google.com/notebooks/data_table.ipynb>data table notebook</a>'\n",
              "            + ' to learn more about interactive tables.';\n",
              "          element.innerHTML = '';\n",
              "          dataTable['output_type'] = 'display_data';\n",
              "          await google.colab.output.renderOutput(dataTable, element);\n",
              "          const docLink = document.createElement('div');\n",
              "          docLink.innerHTML = docLinkHtml;\n",
              "          element.appendChild(docLink);\n",
              "        }\n",
              "      </script>\n",
              "    </div>\n",
              "  </div>\n",
              "  "
            ]
          },
          "metadata": {},
          "execution_count": 96
        }
      ]
    },
    {
      "cell_type": "code",
      "source": [
        "imputer.fit(df_train)"
      ],
      "metadata": {
        "colab": {
          "base_uri": "https://localhost:8080/",
          "height": 74
        },
        "id": "W4I98kqTkIdN",
        "outputId": "576c6321-547e-4fcd-8092-de6c2d533caa"
      },
      "execution_count": null,
      "outputs": [
        {
          "output_type": "execute_result",
          "data": {
            "text/plain": [
              "IterativeImputer(random_state=100)"
            ],
            "text/html": [
              "<style>#sk-container-id-2 {color: black;background-color: white;}#sk-container-id-2 pre{padding: 0;}#sk-container-id-2 div.sk-toggleable {background-color: white;}#sk-container-id-2 label.sk-toggleable__label {cursor: pointer;display: block;width: 100%;margin-bottom: 0;padding: 0.3em;box-sizing: border-box;text-align: center;}#sk-container-id-2 label.sk-toggleable__label-arrow:before {content: \"▸\";float: left;margin-right: 0.25em;color: #696969;}#sk-container-id-2 label.sk-toggleable__label-arrow:hover:before {color: black;}#sk-container-id-2 div.sk-estimator:hover label.sk-toggleable__label-arrow:before {color: black;}#sk-container-id-2 div.sk-toggleable__content {max-height: 0;max-width: 0;overflow: hidden;text-align: left;background-color: #f0f8ff;}#sk-container-id-2 div.sk-toggleable__content pre {margin: 0.2em;color: black;border-radius: 0.25em;background-color: #f0f8ff;}#sk-container-id-2 input.sk-toggleable__control:checked~div.sk-toggleable__content {max-height: 200px;max-width: 100%;overflow: auto;}#sk-container-id-2 input.sk-toggleable__control:checked~label.sk-toggleable__label-arrow:before {content: \"▾\";}#sk-container-id-2 div.sk-estimator input.sk-toggleable__control:checked~label.sk-toggleable__label {background-color: #d4ebff;}#sk-container-id-2 div.sk-label input.sk-toggleable__control:checked~label.sk-toggleable__label {background-color: #d4ebff;}#sk-container-id-2 input.sk-hidden--visually {border: 0;clip: rect(1px 1px 1px 1px);clip: rect(1px, 1px, 1px, 1px);height: 1px;margin: -1px;overflow: hidden;padding: 0;position: absolute;width: 1px;}#sk-container-id-2 div.sk-estimator {font-family: monospace;background-color: #f0f8ff;border: 1px dotted black;border-radius: 0.25em;box-sizing: border-box;margin-bottom: 0.5em;}#sk-container-id-2 div.sk-estimator:hover {background-color: #d4ebff;}#sk-container-id-2 div.sk-parallel-item::after {content: \"\";width: 100%;border-bottom: 1px solid gray;flex-grow: 1;}#sk-container-id-2 div.sk-label:hover label.sk-toggleable__label {background-color: #d4ebff;}#sk-container-id-2 div.sk-serial::before {content: \"\";position: absolute;border-left: 1px solid gray;box-sizing: border-box;top: 0;bottom: 0;left: 50%;z-index: 0;}#sk-container-id-2 div.sk-serial {display: flex;flex-direction: column;align-items: center;background-color: white;padding-right: 0.2em;padding-left: 0.2em;position: relative;}#sk-container-id-2 div.sk-item {position: relative;z-index: 1;}#sk-container-id-2 div.sk-parallel {display: flex;align-items: stretch;justify-content: center;background-color: white;position: relative;}#sk-container-id-2 div.sk-item::before, #sk-container-id-2 div.sk-parallel-item::before {content: \"\";position: absolute;border-left: 1px solid gray;box-sizing: border-box;top: 0;bottom: 0;left: 50%;z-index: -1;}#sk-container-id-2 div.sk-parallel-item {display: flex;flex-direction: column;z-index: 1;position: relative;background-color: white;}#sk-container-id-2 div.sk-parallel-item:first-child::after {align-self: flex-end;width: 50%;}#sk-container-id-2 div.sk-parallel-item:last-child::after {align-self: flex-start;width: 50%;}#sk-container-id-2 div.sk-parallel-item:only-child::after {width: 0;}#sk-container-id-2 div.sk-dashed-wrapped {border: 1px dashed gray;margin: 0 0.4em 0.5em 0.4em;box-sizing: border-box;padding-bottom: 0.4em;background-color: white;}#sk-container-id-2 div.sk-label label {font-family: monospace;font-weight: bold;display: inline-block;line-height: 1.2em;}#sk-container-id-2 div.sk-label-container {text-align: center;}#sk-container-id-2 div.sk-container {/* jupyter's `normalize.less` sets `[hidden] { display: none; }` but bootstrap.min.css set `[hidden] { display: none !important; }` so we also need the `!important` here to be able to override the default hidden behavior on the sphinx rendered scikit-learn.org. See: https://github.com/scikit-learn/scikit-learn/issues/21755 */display: inline-block !important;position: relative;}#sk-container-id-2 div.sk-text-repr-fallback {display: none;}</style><div id=\"sk-container-id-2\" class=\"sk-top-container\"><div class=\"sk-text-repr-fallback\"><pre>IterativeImputer(random_state=100)</pre><b>In a Jupyter environment, please rerun this cell to show the HTML representation or trust the notebook. <br />On GitHub, the HTML representation is unable to render, please try loading this page with nbviewer.org.</b></div><div class=\"sk-container\" hidden><div class=\"sk-item\"><div class=\"sk-estimator sk-toggleable\"><input class=\"sk-toggleable__control sk-hidden--visually\" id=\"sk-estimator-id-2\" type=\"checkbox\" checked><label for=\"sk-estimator-id-2\" class=\"sk-toggleable__label sk-toggleable__label-arrow\">IterativeImputer</label><div class=\"sk-toggleable__content\"><pre>IterativeImputer(random_state=100)</pre></div></div></div></div></div>"
            ]
          },
          "metadata": {},
          "execution_count": 97
        }
      ]
    },
    {
      "cell_type": "code",
      "source": [
        "df_imputed = imputer.transform(df_train)\n",
        "df_imputed[:10]"
      ],
      "metadata": {
        "colab": {
          "base_uri": "https://localhost:8080/"
        },
        "id": "OqCS7kPdkQdf",
        "outputId": "fa805bc7-e4c0-4c0c-90fc-b903391d16f7"
      },
      "execution_count": null,
      "outputs": [
        {
          "output_type": "execute_result",
          "data": {
            "text/plain": [
              "array([[8.91000000e+02, 1.55000000e+02, 1.20000000e-01],\n",
              "       [4.84000000e+02, 2.41856897e+02, 1.04679362e+01],\n",
              "       [4.10000000e+03, 2.96000000e+02, 1.06352294e+01],\n",
              "       [3.49000000e+02, 2.56741814e+02, 8.00000000e-02],\n",
              "       [7.60373249e+02, 1.96000000e+02, 1.05445738e+01],\n",
              "       [1.30000000e+03, 9.00000000e+01, 5.00000000e-02],\n",
              "       [1.65000000e+02, 6.00000000e+01, 2.70000000e-01],\n",
              "       [3.64000000e+02, 5.00000000e+01, 9.00000000e-02],\n",
              "       [1.30000000e+03, 5.00000000e+01, 1.07643967e+01],\n",
              "       [2.30000000e+01, 6.00000000e+00, 1.07370154e+01]])"
            ]
          },
          "metadata": {},
          "execution_count": 98
        }
      ]
    },
    {
      "cell_type": "code",
      "source": [
        "dfcombined.loc[:, [\"Funds_Raised\", \"Laid_Off_Count\", \"Percentage\"]] = df_imputed\n",
        "dfcombined.head(10)"
      ],
      "metadata": {
        "colab": {
          "base_uri": "https://localhost:8080/",
          "height": 682
        },
        "id": "KrxTjG3FkRtp",
        "outputId": "cc38673c-77e0-40a3-b989-23f717f9612b"
      },
      "execution_count": null,
      "outputs": [
        {
          "output_type": "execute_result",
          "data": {
            "text/plain": [
              "            Company    Location_HQ        Industry  Laid_Off_Count  \\\n",
              "0  Cityblock Health  New York City      Healthcare      155.000000   \n",
              "1        Freshworks    SF Bay Area         Support      241.856897   \n",
              "2            Nubank      Sao Paulo         Finance      296.000000   \n",
              "3         HashiCorp    SF Bay Area  Infrastructure      256.741814   \n",
              "4          Coherent    SF Bay Area   Manufacturing      196.000000   \n",
              "5            Reddit    SF Bay Area        Consumer       90.000000   \n",
              "6          Linktree      Melbourne        Consumer       60.000000   \n",
              "7            Dragos      Baltimore        Security       50.000000   \n",
              "8             Unity    SF Bay Area           Other       50.000000   \n",
              "9              Mara        Nairobi          Crypto        6.000000   \n",
              "\n",
              "   Percentage        Date                                             Source  \\\n",
              "0    0.120000  2023-06-08  https://www.fiercehealthcare.com/providers/cit...   \n",
              "1   10.467936  2023-06-08  https://bwdisrupt.businessworld.in/article/Saa...   \n",
              "2   10.635229  2023-06-07  https://brazilian.report/liveblog/politics-ins...   \n",
              "3    0.080000  2023-06-07  https://ir.hashicorp.com/news-releases/news-re...   \n",
              "4   10.544574  2023-06-06  https://www.mercurynews.com/2023/06/06/tech-la...   \n",
              "5    0.050000  2023-06-06  https://www.wsj.com/articles/reddit-is-cutting...   \n",
              "6    0.270000  2023-06-06  https://www.startupdaily.net/topic/business/li...   \n",
              "7    0.090000  2023-06-06  https://www.dragos.com/blog/industry-news/drag...   \n",
              "8   10.764397  2023-06-06  https://www.mercurynews.com/2023/06/06/tech-la...   \n",
              "9   10.737015  2023-06-06  https://techcabal.com/2023/06/06/web3-startup-...   \n",
              "\n",
              "   Funds_Raised     Stage           Date_Added  ... Funds_Raised (Millions)  \\\n",
              "0    891.000000  Series D  2023-06-08 17:24:06  ...                     NaN   \n",
              "1    484.000000  Post-IPO  2023-06-08 17:25:32  ...                     NaN   \n",
              "2   4100.000000  Post-IPO  2023-06-08 17:27:08  ...                     NaN   \n",
              "3    349.000000  Post-IPO  2023-06-07 22:54:55  ...                     NaN   \n",
              "4    760.373249  Post-IPO  2023-06-08 17:22:21  ...                     NaN   \n",
              "5   1300.000000  Series F  2023-06-06 20:34:50  ...                     NaN   \n",
              "6    165.000000   Unknown  2023-06-06 01:41:18  ...                     NaN   \n",
              "7    364.000000  Series D  2023-06-06 23:48:56  ...                     NaN   \n",
              "8   1300.000000  Post-IPO  2023-06-08 17:22:50  ...                     NaN   \n",
              "9     23.000000      Seed  2023-06-08 17:29:27  ...                     NaN   \n",
              "\n",
              "  Sum of Employees Average # of Employees Laid Off Average Layoff %  \\\n",
              "0              NaN                             NaN              NaN   \n",
              "1              NaN                             NaN              NaN   \n",
              "2              NaN                             NaN              NaN   \n",
              "3              NaN                             NaN              NaN   \n",
              "4              NaN                             NaN              NaN   \n",
              "5              NaN                             NaN              NaN   \n",
              "6              NaN                             NaN              NaN   \n",
              "7              NaN                             NaN              NaN   \n",
              "8              NaN                             NaN              NaN   \n",
              "9              NaN                             NaN              NaN   \n",
              "\n",
              "  Total Funds Raised Average Funds Raised Unnamed: 17 Unnamed: 18  \\\n",
              "0                NaN                  NaN         NaN         NaN   \n",
              "1                NaN                  NaN         NaN         NaN   \n",
              "2                NaN                  NaN         NaN         NaN   \n",
              "3                NaN                  NaN         NaN         NaN   \n",
              "4                NaN                  NaN         NaN         NaN   \n",
              "5                NaN                  NaN         NaN         NaN   \n",
              "6                NaN                  NaN         NaN         NaN   \n",
              "7                NaN                  NaN         NaN         NaN   \n",
              "8                NaN                  NaN         NaN         NaN   \n",
              "9                NaN                  NaN         NaN         NaN   \n",
              "\n",
              "  Total Laid Off Date Added  \n",
              "0            NaN        NaN  \n",
              "1            NaN        NaN  \n",
              "2            NaN        NaN  \n",
              "3            NaN        NaN  \n",
              "4            NaN        NaN  \n",
              "5            NaN        NaN  \n",
              "6            NaN        NaN  \n",
              "7            NaN        NaN  \n",
              "8            NaN        NaN  \n",
              "9            NaN        NaN  \n",
              "\n",
              "[10 rows x 41 columns]"
            ],
            "text/html": [
              "\n",
              "  <div id=\"df-d3f9263a-3d21-491c-9b0a-a908f2a09f96\">\n",
              "    <div class=\"colab-df-container\">\n",
              "      <div>\n",
              "<style scoped>\n",
              "    .dataframe tbody tr th:only-of-type {\n",
              "        vertical-align: middle;\n",
              "    }\n",
              "\n",
              "    .dataframe tbody tr th {\n",
              "        vertical-align: top;\n",
              "    }\n",
              "\n",
              "    .dataframe thead th {\n",
              "        text-align: right;\n",
              "    }\n",
              "</style>\n",
              "<table border=\"1\" class=\"dataframe\">\n",
              "  <thead>\n",
              "    <tr style=\"text-align: right;\">\n",
              "      <th></th>\n",
              "      <th>Company</th>\n",
              "      <th>Location_HQ</th>\n",
              "      <th>Industry</th>\n",
              "      <th>Laid_Off_Count</th>\n",
              "      <th>Percentage</th>\n",
              "      <th>Date</th>\n",
              "      <th>Source</th>\n",
              "      <th>Funds_Raised</th>\n",
              "      <th>Stage</th>\n",
              "      <th>Date_Added</th>\n",
              "      <th>...</th>\n",
              "      <th>Funds_Raised (Millions)</th>\n",
              "      <th>Sum of Employees</th>\n",
              "      <th>Average # of Employees Laid Off</th>\n",
              "      <th>Average Layoff %</th>\n",
              "      <th>Total Funds Raised</th>\n",
              "      <th>Average Funds Raised</th>\n",
              "      <th>Unnamed: 17</th>\n",
              "      <th>Unnamed: 18</th>\n",
              "      <th>Total Laid Off</th>\n",
              "      <th>Date Added</th>\n",
              "    </tr>\n",
              "  </thead>\n",
              "  <tbody>\n",
              "    <tr>\n",
              "      <th>0</th>\n",
              "      <td>Cityblock Health</td>\n",
              "      <td>New York City</td>\n",
              "      <td>Healthcare</td>\n",
              "      <td>155.000000</td>\n",
              "      <td>0.120000</td>\n",
              "      <td>2023-06-08</td>\n",
              "      <td>https://www.fiercehealthcare.com/providers/cit...</td>\n",
              "      <td>891.000000</td>\n",
              "      <td>Series D</td>\n",
              "      <td>2023-06-08 17:24:06</td>\n",
              "      <td>...</td>\n",
              "      <td>NaN</td>\n",
              "      <td>NaN</td>\n",
              "      <td>NaN</td>\n",
              "      <td>NaN</td>\n",
              "      <td>NaN</td>\n",
              "      <td>NaN</td>\n",
              "      <td>NaN</td>\n",
              "      <td>NaN</td>\n",
              "      <td>NaN</td>\n",
              "      <td>NaN</td>\n",
              "    </tr>\n",
              "    <tr>\n",
              "      <th>1</th>\n",
              "      <td>Freshworks</td>\n",
              "      <td>SF Bay Area</td>\n",
              "      <td>Support</td>\n",
              "      <td>241.856897</td>\n",
              "      <td>10.467936</td>\n",
              "      <td>2023-06-08</td>\n",
              "      <td>https://bwdisrupt.businessworld.in/article/Saa...</td>\n",
              "      <td>484.000000</td>\n",
              "      <td>Post-IPO</td>\n",
              "      <td>2023-06-08 17:25:32</td>\n",
              "      <td>...</td>\n",
              "      <td>NaN</td>\n",
              "      <td>NaN</td>\n",
              "      <td>NaN</td>\n",
              "      <td>NaN</td>\n",
              "      <td>NaN</td>\n",
              "      <td>NaN</td>\n",
              "      <td>NaN</td>\n",
              "      <td>NaN</td>\n",
              "      <td>NaN</td>\n",
              "      <td>NaN</td>\n",
              "    </tr>\n",
              "    <tr>\n",
              "      <th>2</th>\n",
              "      <td>Nubank</td>\n",
              "      <td>Sao Paulo</td>\n",
              "      <td>Finance</td>\n",
              "      <td>296.000000</td>\n",
              "      <td>10.635229</td>\n",
              "      <td>2023-06-07</td>\n",
              "      <td>https://brazilian.report/liveblog/politics-ins...</td>\n",
              "      <td>4100.000000</td>\n",
              "      <td>Post-IPO</td>\n",
              "      <td>2023-06-08 17:27:08</td>\n",
              "      <td>...</td>\n",
              "      <td>NaN</td>\n",
              "      <td>NaN</td>\n",
              "      <td>NaN</td>\n",
              "      <td>NaN</td>\n",
              "      <td>NaN</td>\n",
              "      <td>NaN</td>\n",
              "      <td>NaN</td>\n",
              "      <td>NaN</td>\n",
              "      <td>NaN</td>\n",
              "      <td>NaN</td>\n",
              "    </tr>\n",
              "    <tr>\n",
              "      <th>3</th>\n",
              "      <td>HashiCorp</td>\n",
              "      <td>SF Bay Area</td>\n",
              "      <td>Infrastructure</td>\n",
              "      <td>256.741814</td>\n",
              "      <td>0.080000</td>\n",
              "      <td>2023-06-07</td>\n",
              "      <td>https://ir.hashicorp.com/news-releases/news-re...</td>\n",
              "      <td>349.000000</td>\n",
              "      <td>Post-IPO</td>\n",
              "      <td>2023-06-07 22:54:55</td>\n",
              "      <td>...</td>\n",
              "      <td>NaN</td>\n",
              "      <td>NaN</td>\n",
              "      <td>NaN</td>\n",
              "      <td>NaN</td>\n",
              "      <td>NaN</td>\n",
              "      <td>NaN</td>\n",
              "      <td>NaN</td>\n",
              "      <td>NaN</td>\n",
              "      <td>NaN</td>\n",
              "      <td>NaN</td>\n",
              "    </tr>\n",
              "    <tr>\n",
              "      <th>4</th>\n",
              "      <td>Coherent</td>\n",
              "      <td>SF Bay Area</td>\n",
              "      <td>Manufacturing</td>\n",
              "      <td>196.000000</td>\n",
              "      <td>10.544574</td>\n",
              "      <td>2023-06-06</td>\n",
              "      <td>https://www.mercurynews.com/2023/06/06/tech-la...</td>\n",
              "      <td>760.373249</td>\n",
              "      <td>Post-IPO</td>\n",
              "      <td>2023-06-08 17:22:21</td>\n",
              "      <td>...</td>\n",
              "      <td>NaN</td>\n",
              "      <td>NaN</td>\n",
              "      <td>NaN</td>\n",
              "      <td>NaN</td>\n",
              "      <td>NaN</td>\n",
              "      <td>NaN</td>\n",
              "      <td>NaN</td>\n",
              "      <td>NaN</td>\n",
              "      <td>NaN</td>\n",
              "      <td>NaN</td>\n",
              "    </tr>\n",
              "    <tr>\n",
              "      <th>5</th>\n",
              "      <td>Reddit</td>\n",
              "      <td>SF Bay Area</td>\n",
              "      <td>Consumer</td>\n",
              "      <td>90.000000</td>\n",
              "      <td>0.050000</td>\n",
              "      <td>2023-06-06</td>\n",
              "      <td>https://www.wsj.com/articles/reddit-is-cutting...</td>\n",
              "      <td>1300.000000</td>\n",
              "      <td>Series F</td>\n",
              "      <td>2023-06-06 20:34:50</td>\n",
              "      <td>...</td>\n",
              "      <td>NaN</td>\n",
              "      <td>NaN</td>\n",
              "      <td>NaN</td>\n",
              "      <td>NaN</td>\n",
              "      <td>NaN</td>\n",
              "      <td>NaN</td>\n",
              "      <td>NaN</td>\n",
              "      <td>NaN</td>\n",
              "      <td>NaN</td>\n",
              "      <td>NaN</td>\n",
              "    </tr>\n",
              "    <tr>\n",
              "      <th>6</th>\n",
              "      <td>Linktree</td>\n",
              "      <td>Melbourne</td>\n",
              "      <td>Consumer</td>\n",
              "      <td>60.000000</td>\n",
              "      <td>0.270000</td>\n",
              "      <td>2023-06-06</td>\n",
              "      <td>https://www.startupdaily.net/topic/business/li...</td>\n",
              "      <td>165.000000</td>\n",
              "      <td>Unknown</td>\n",
              "      <td>2023-06-06 01:41:18</td>\n",
              "      <td>...</td>\n",
              "      <td>NaN</td>\n",
              "      <td>NaN</td>\n",
              "      <td>NaN</td>\n",
              "      <td>NaN</td>\n",
              "      <td>NaN</td>\n",
              "      <td>NaN</td>\n",
              "      <td>NaN</td>\n",
              "      <td>NaN</td>\n",
              "      <td>NaN</td>\n",
              "      <td>NaN</td>\n",
              "    </tr>\n",
              "    <tr>\n",
              "      <th>7</th>\n",
              "      <td>Dragos</td>\n",
              "      <td>Baltimore</td>\n",
              "      <td>Security</td>\n",
              "      <td>50.000000</td>\n",
              "      <td>0.090000</td>\n",
              "      <td>2023-06-06</td>\n",
              "      <td>https://www.dragos.com/blog/industry-news/drag...</td>\n",
              "      <td>364.000000</td>\n",
              "      <td>Series D</td>\n",
              "      <td>2023-06-06 23:48:56</td>\n",
              "      <td>...</td>\n",
              "      <td>NaN</td>\n",
              "      <td>NaN</td>\n",
              "      <td>NaN</td>\n",
              "      <td>NaN</td>\n",
              "      <td>NaN</td>\n",
              "      <td>NaN</td>\n",
              "      <td>NaN</td>\n",
              "      <td>NaN</td>\n",
              "      <td>NaN</td>\n",
              "      <td>NaN</td>\n",
              "    </tr>\n",
              "    <tr>\n",
              "      <th>8</th>\n",
              "      <td>Unity</td>\n",
              "      <td>SF Bay Area</td>\n",
              "      <td>Other</td>\n",
              "      <td>50.000000</td>\n",
              "      <td>10.764397</td>\n",
              "      <td>2023-06-06</td>\n",
              "      <td>https://www.mercurynews.com/2023/06/06/tech-la...</td>\n",
              "      <td>1300.000000</td>\n",
              "      <td>Post-IPO</td>\n",
              "      <td>2023-06-08 17:22:50</td>\n",
              "      <td>...</td>\n",
              "      <td>NaN</td>\n",
              "      <td>NaN</td>\n",
              "      <td>NaN</td>\n",
              "      <td>NaN</td>\n",
              "      <td>NaN</td>\n",
              "      <td>NaN</td>\n",
              "      <td>NaN</td>\n",
              "      <td>NaN</td>\n",
              "      <td>NaN</td>\n",
              "      <td>NaN</td>\n",
              "    </tr>\n",
              "    <tr>\n",
              "      <th>9</th>\n",
              "      <td>Mara</td>\n",
              "      <td>Nairobi</td>\n",
              "      <td>Crypto</td>\n",
              "      <td>6.000000</td>\n",
              "      <td>10.737015</td>\n",
              "      <td>2023-06-06</td>\n",
              "      <td>https://techcabal.com/2023/06/06/web3-startup-...</td>\n",
              "      <td>23.000000</td>\n",
              "      <td>Seed</td>\n",
              "      <td>2023-06-08 17:29:27</td>\n",
              "      <td>...</td>\n",
              "      <td>NaN</td>\n",
              "      <td>NaN</td>\n",
              "      <td>NaN</td>\n",
              "      <td>NaN</td>\n",
              "      <td>NaN</td>\n",
              "      <td>NaN</td>\n",
              "      <td>NaN</td>\n",
              "      <td>NaN</td>\n",
              "      <td>NaN</td>\n",
              "      <td>NaN</td>\n",
              "    </tr>\n",
              "  </tbody>\n",
              "</table>\n",
              "<p>10 rows × 41 columns</p>\n",
              "</div>\n",
              "      <button class=\"colab-df-convert\" onclick=\"convertToInteractive('df-d3f9263a-3d21-491c-9b0a-a908f2a09f96')\"\n",
              "              title=\"Convert this dataframe to an interactive table.\"\n",
              "              style=\"display:none;\">\n",
              "        \n",
              "  <svg xmlns=\"http://www.w3.org/2000/svg\" height=\"24px\"viewBox=\"0 0 24 24\"\n",
              "       width=\"24px\">\n",
              "    <path d=\"M0 0h24v24H0V0z\" fill=\"none\"/>\n",
              "    <path d=\"M18.56 5.44l.94 2.06.94-2.06 2.06-.94-2.06-.94-.94-2.06-.94 2.06-2.06.94zm-11 1L8.5 8.5l.94-2.06 2.06-.94-2.06-.94L8.5 2.5l-.94 2.06-2.06.94zm10 10l.94 2.06.94-2.06 2.06-.94-2.06-.94-.94-2.06-.94 2.06-2.06.94z\"/><path d=\"M17.41 7.96l-1.37-1.37c-.4-.4-.92-.59-1.43-.59-.52 0-1.04.2-1.43.59L10.3 9.45l-7.72 7.72c-.78.78-.78 2.05 0 2.83L4 21.41c.39.39.9.59 1.41.59.51 0 1.02-.2 1.41-.59l7.78-7.78 2.81-2.81c.8-.78.8-2.07 0-2.86zM5.41 20L4 18.59l7.72-7.72 1.47 1.35L5.41 20z\"/>\n",
              "  </svg>\n",
              "      </button>\n",
              "      \n",
              "  <style>\n",
              "    .colab-df-container {\n",
              "      display:flex;\n",
              "      flex-wrap:wrap;\n",
              "      gap: 12px;\n",
              "    }\n",
              "\n",
              "    .colab-df-convert {\n",
              "      background-color: #E8F0FE;\n",
              "      border: none;\n",
              "      border-radius: 50%;\n",
              "      cursor: pointer;\n",
              "      display: none;\n",
              "      fill: #1967D2;\n",
              "      height: 32px;\n",
              "      padding: 0 0 0 0;\n",
              "      width: 32px;\n",
              "    }\n",
              "\n",
              "    .colab-df-convert:hover {\n",
              "      background-color: #E2EBFA;\n",
              "      box-shadow: 0px 1px 2px rgba(60, 64, 67, 0.3), 0px 1px 3px 1px rgba(60, 64, 67, 0.15);\n",
              "      fill: #174EA6;\n",
              "    }\n",
              "\n",
              "    [theme=dark] .colab-df-convert {\n",
              "      background-color: #3B4455;\n",
              "      fill: #D2E3FC;\n",
              "    }\n",
              "\n",
              "    [theme=dark] .colab-df-convert:hover {\n",
              "      background-color: #434B5C;\n",
              "      box-shadow: 0px 1px 3px 1px rgba(0, 0, 0, 0.15);\n",
              "      filter: drop-shadow(0px 1px 2px rgba(0, 0, 0, 0.3));\n",
              "      fill: #FFFFFF;\n",
              "    }\n",
              "  </style>\n",
              "\n",
              "      <script>\n",
              "        const buttonEl =\n",
              "          document.querySelector('#df-d3f9263a-3d21-491c-9b0a-a908f2a09f96 button.colab-df-convert');\n",
              "        buttonEl.style.display =\n",
              "          google.colab.kernel.accessAllowed ? 'block' : 'none';\n",
              "\n",
              "        async function convertToInteractive(key) {\n",
              "          const element = document.querySelector('#df-d3f9263a-3d21-491c-9b0a-a908f2a09f96');\n",
              "          const dataTable =\n",
              "            await google.colab.kernel.invokeFunction('convertToInteractive',\n",
              "                                                     [key], {});\n",
              "          if (!dataTable) return;\n",
              "\n",
              "          const docLinkHtml = 'Like what you see? Visit the ' +\n",
              "            '<a target=\"_blank\" href=https://colab.research.google.com/notebooks/data_table.ipynb>data table notebook</a>'\n",
              "            + ' to learn more about interactive tables.';\n",
              "          element.innerHTML = '';\n",
              "          dataTable['output_type'] = 'display_data';\n",
              "          await google.colab.output.renderOutput(dataTable, element);\n",
              "          const docLink = document.createElement('div');\n",
              "          docLink.innerHTML = docLinkHtml;\n",
              "          element.appendChild(docLink);\n",
              "        }\n",
              "      </script>\n",
              "    </div>\n",
              "  </div>\n",
              "  "
            ]
          },
          "metadata": {},
          "execution_count": 99
        }
      ]
    },
    {
      "cell_type": "code",
      "source": [
        "correlation = dfcombined['Laid_Off_Count'].corr(dfcombined['Funds_Raised'])"
      ],
      "metadata": {
        "id": "5jXrDYSK4L1X"
      },
      "execution_count": null,
      "outputs": []
    },
    {
      "cell_type": "markdown",
      "source": [
        "Scatter plot"
      ],
      "metadata": {
        "id": "GwNCK2zWsznl"
      }
    },
    {
      "cell_type": "code",
      "source": [
        "import matplotlib.pyplot as plt\n",
        "plt.figure(figsize=(8, 6))\n",
        "\n",
        "\n",
        "plt.scatter(dfcombined['Funds_Raised'], dfcombined['Laid_Off_Count'])\n",
        "plt.xlabel('Funds Raised')\n",
        "plt.ylabel('Laid_Off_Count')\n",
        "plt.show()"
      ],
      "metadata": {
        "colab": {
          "base_uri": "https://localhost:8080/",
          "height": 542
        },
        "id": "WbyrRc9umZSo",
        "outputId": "2bfc8885-7cc0-4531-e407-29f29cd1b297"
      },
      "execution_count": null,
      "outputs": [
        {
          "output_type": "display_data",
          "data": {
            "text/plain": [
              "<Figure size 800x600 with 1 Axes>"
            ],
            "image/png": "[encoded data removed]"
          },
          "metadata": {}
        }
      ]
    },
    {
      "cell_type": "code",
      "source": [
        "import matplotlib.pyplot as plt\n",
        "plt.figure(figsize=(8, 6))\n",
        "\n",
        "\n",
        "plt.scatter(df['Funds_Raised'], df['Laid_Off_Count'])\n",
        "plt.xlabel('Funds Raised')\n",
        "plt.ylabel('Laid_Off_Count')\n",
        "plt.show()"
      ],
      "metadata": {
        "colab": {
          "base_uri": "https://localhost:8080/",
          "height": 550
        },
        "id": "KdkfMZiK4N4Z",
        "outputId": "32edd7a2-43aa-4e0a-c3d4-3781e81c31e6"
      },
      "execution_count": null,
      "outputs": [
        {
          "output_type": "display_data",
          "data": {
            "text/plain": [
              "<Figure size 800x600 with 1 Axes>"
            ],
            "image/png": "[encoded data removed]"
          },
          "metadata": {}
        }
      ]
    },
    {
      "cell_type": "code",
      "source": [
        "grouped_data = dfcombined.groupby('Stage')['Percentage'].mean()\n",
        "\n",
        "grouped_data = grouped_data.sort_values(ascending=False)\n",
        "\n",
        "# Plot the data\n",
        "plt.figure(figsize=(8, 6))\n",
        "plt.bar(grouped_data.index, grouped_data.values)\n",
        "plt.xlabel('Stage')\n",
        "plt.ylabel('Percentage of Laid Off Employees')\n",
        "plt.title('Percentage of Laid Off Employees by Stage')\n",
        "plt.xticks(rotation=45)\n",
        "plt.show()"
      ],
      "metadata": {
        "colab": {
          "base_uri": "https://localhost:8080/",
          "height": 629
        },
        "id": "9KYFS15uJXJd",
        "outputId": "f57006f9-2275-4be0-e959-1b649a7bd3c2"
      },
      "execution_count": null,
      "outputs": [
        {
          "output_type": "display_data",
          "data": {
            "text/plain": [
              "<Figure size 800x600 with 1 Axes>"
            ],
            "image/png": "[encoded data removed]"
          },
          "metadata": {}
        }
      ]
    },
    {
      "cell_type": "code",
      "source": [
        "import matplotlib.pyplot as plt\n",
        "\n",
        "# Group the data by country and calculate the total laid off count\n",
        "country_counts = dfcombined.groupby('Country')['Laid_Off_Count'].sum()\n",
        "\n",
        "# Calculate the percentage of laid off employees for each country\n",
        "total_count = country_counts.sum()\n",
        "country_percentages = country_counts / total_count * 100\n",
        "\n",
        "# Combine countries with less than 2% layoff percentage as \"Others\"\n",
        "threshold = 2\n",
        "other_countries = country_percentages[country_percentages < threshold]\n",
        "other_count = other_countries.sum()\n",
        "country_percentages = country_percentages[country_percentages >= threshold]\n",
        "country_percentages['Others'] = other_count\n",
        "\n",
        "# Plot the pie chart\n",
        "plt.figure(figsize=(8, 6))\n",
        "plt.pie(country_percentages, labels=country_percentages.index, autopct='%1.1f%%')\n",
        "plt.title('Number of Laid Off Employees by Country')\n",
        "plt.axis('equal')  # Equal aspect ratio ensures a circular pie chart\n",
        "plt.show()\n"
      ],
      "metadata": {
        "colab": {
          "base_uri": "https://localhost:8080/",
          "height": 521
        },
        "id": "4ko2OMOXh5Rh",
        "outputId": "2df50c89-6a36-4650-9cc3-fe433f00acdb"
      },
      "execution_count": null,
      "outputs": [
        {
          "output_type": "display_data",
          "data": {
            "text/plain": [
              "<Figure size 800x600 with 1 Axes>"
            ],
            "image/png": "[encoded data removed]"
          },
          "metadata": {}
        }
      ]
    },
    {
      "cell_type": "markdown",
      "source": [
        "**Sensitivity Analysis**"
      ],
      "metadata": {
        "id": "g3GnEQTWHWWR"
      }
    },
    {
      "cell_type": "code",
      "source": [],
      "metadata": {
        "id": "kmBx5vN9HdUs"
      },
      "execution_count": null,
      "outputs": []
    },
    {
      "cell_type": "code",
      "source": [
        "df = df.dropna(subset=['Funds_Raised'])\n",
        "df = df.dropna(subset=['Percentage'])\n"
      ],
      "metadata": {
        "id": "HbJdTiahxL4C"
      },
      "execution_count": null,
      "outputs": []
    },
    {
      "cell_type": "code",
      "source": [
        "import statsmodels.api as sm\n",
        "from sklearn.preprocessing import LabelEncoder\n",
        "\n",
        "# Initialize the LabelEncoder\n",
        "encoder = LabelEncoder()\n",
        "\n",
        "# Convert the location variable to numerical labels\n",
        "df['Country'] = encoder.fit_transform(df['Country'])\n",
        "# Perform one-hot encoding on the location variable\n",
        "one_hot_encoded = pd.get_dummies(df['Country'], prefix='Stage')\n",
        "\n",
        "# Concatenate the one-hot encoded variables back to the original DataFrame\n",
        "df = pd.concat([df, one_hot_encoded], axis=1)\n",
        "\n",
        "X = df['Funds_Raised']\n",
        "y = df['Percentage']\n",
        "X = sm.add_constant(X)  # Add a constant term for the intercept\n",
        "model = sm.OLS(y, X)\n",
        "results = model.fit()\n",
        "print(results.summary())"
      ],
      "metadata": {
        "colab": {
          "base_uri": "https://localhost:8080/"
        },
        "id": "2MJr6MQx4XFN",
        "outputId": "83834a97-9387-4a19-d3ba-d5f96cbb815f"
      },
      "execution_count": null,
      "outputs": [
        {
          "output_type": "stream",
          "name": "stdout",
          "text": [
            "                            OLS Regression Results                            \n",
            "==============================================================================\n",
            "Dep. Variable:             Percentage   R-squared:                       0.004\n",
            "Model:                            OLS   Adj. R-squared:                  0.004\n",
            "Method:                 Least Squares   F-statistic:                     7.358\n",
            "Date:                Mon, 19 Jun 2023   Prob (F-statistic):            0.00674\n",
            "Time:                        17:53:16   Log-Likelihood:                -60.923\n",
            "No. Observations:                1631   AIC:                             125.8\n",
            "Df Residuals:                    1629   BIC:                             136.6\n",
            "Df Model:                           1                                         \n",
            "Covariance Type:            nonrobust                                         \n",
            "================================================================================\n",
            "                   coef    std err          t      P>|t|      [0.025      0.975]\n",
            "--------------------------------------------------------------------------------\n",
            "const            0.2572      0.006     40.881      0.000       0.245       0.269\n",
            "Funds_Raised -3.658e-06   1.35e-06     -2.713      0.007    -6.3e-06   -1.01e-06\n",
            "==============================================================================\n",
            "Omnibus:                      593.269   Durbin-Watson:                   1.877\n",
            "Prob(Omnibus):                  0.000   Jarque-Bera (JB):             1648.160\n",
            "Skew:                           1.946   Prob(JB):                         0.00\n",
            "Kurtosis:                       6.019   Cond. No.                     4.71e+03\n",
            "==============================================================================\n",
            "\n",
            "Notes:\n",
            "[1] Standard Errors assume that the covariance matrix of the errors is correctly specified.\n",
            "[2] The condition number is large, 4.71e+03. This might indicate that there are\n",
            "strong multicollinearity or other numerical problems.\n"
          ]
        }
      ]
    },
    {
      "cell_type": "code",
      "source": [
        "from sklearn.preprocessing import LabelEncoder\n",
        "\n",
        "label_encoder = LabelEncoder()\n",
        "df_encoded_label = df.apply(label_encoder.fit_transform)"
      ],
      "metadata": {
        "id": "GWyGMcGg3DPp"
      },
      "execution_count": null,
      "outputs": []
    },
    {
      "cell_type": "code",
      "source": [
        "# Filter the data for rows where the country is 'United States'\n",
        "#df_us = df[df['Country'] == 'United States']\n",
        "\n",
        "# Group the filtered data by 'Location_HQ' and 'Industry' and calculate the sum of 'Laid_Off_Count'\n",
        "grouped_data = df.groupby(['Location_HQ', 'Industry'])['Laid_Off_Count'].sum()\n",
        "\n",
        "# Reset the index to convert the grouped data into a DataFrame\n",
        "grouped_data = grouped_data.reset_index()\n",
        "\n",
        "# Find the industry with the highest layoffs for each location\n",
        "highest_layoffs_by_location = grouped_data.groupby('Location_HQ').apply(lambda x: x.loc[x['Laid_Off_Count'].idxmax()])\n",
        "\n",
        "# Print the industry with the highest layoffs for each location within the United States\n",
        "print(\"Industry with the highest layoffs for each location within the United States:\")\n",
        "print(highest_layoffs_by_location[['Location_HQ', 'Industry']])\n"
      ],
      "metadata": {
        "colab": {
          "base_uri": "https://localhost:8080/"
        },
        "id": "GrQmqDNv3Paj",
        "outputId": "ddbcca1f-99d6-4a0f-ec6e-a4a0cb4f0723"
      },
      "execution_count": null,
      "outputs": [
        {
          "output_type": "stream",
          "name": "stdout",
          "text": [
            "Industry with the highest layoffs for each location within the United States:\n",
            "                     Location_HQ        Industry\n",
            "Location_HQ                                     \n",
            "Albany                    Albany          Retail\n",
            "Ann Arbor              Ann Arbor      Healthcare\n",
            "Atlanta                  Atlanta       Marketing\n",
            "Austin                    Austin        Hardware\n",
            "Baltimore              Baltimore            Data\n",
            "Baton Rouge          Baton Rouge        Consumer\n",
            "Beijing                  Beijing        Consumer\n",
            "Bend                        Bend        Consumer\n",
            "Berlin                    Berlin         Finance\n",
            "Birmingham            Birmingham     Real Estate\n",
            "Bismarck                Bismarck       Marketing\n",
            "Boise                      Boise        Hardware\n",
            "Boston                    Boston      Healthcare\n",
            "Boulder                  Boulder              HR\n",
            "Brisbane                Brisbane      Healthcare\n",
            "Burlington            Burlington         Finance\n",
            "Charleston            Charleston           Other\n",
            "Charlotte              Charlotte              HR\n",
            "Charlottesville  Charlottesville       Marketing\n",
            "Chennai                  Chennai            Food\n",
            "Chicago                  Chicago          Retail\n",
            "Cincinnati            Cincinnati            Food\n",
            "Cleveland              Cleveland           Other\n",
            "Columbus                Columbus      Healthcare\n",
            "Copenhagen            Copenhagen         Finance\n",
            "Dallas                    Dallas          Travel\n",
            "Davenport              Davenport      Healthcare\n",
            "Denver                    Denver            Food\n",
            "Detroit                  Detroit  Transportation\n",
            "Dover                      Dover           Other\n",
            "Dubai                      Dubai            Food\n",
            "Durham                    Durham       Marketing\n",
            "Eindhoven              Eindhoven       Logistics\n",
            "Fayetteville        Fayetteville          Retail\n",
            "Grand Rapids        Grand Rapids          Retail\n",
            "Houston                  Houston      Healthcare\n",
            "Huntsville            Huntsville          Retail\n",
            "Indianapolis        Indianapolis           Other\n",
            "Jersey City          Jersey City         Finance\n",
            "Kansas City          Kansas City      Healthcare\n",
            "Las Vegas              Las Vegas          Retail\n",
            "Lehi                        Lehi      Healthcare\n",
            "Lexington              Lexington           Other\n",
            "Little Rock          Little Rock       Marketing\n",
            "Logan                      Logan         Fitness\n",
            "London                    London              HR\n",
            "Los Angeles          Los Angeles        Consumer\n",
            "Louisville            Louisville      Healthcare\n",
            "Madison                  Madison          Retail\n",
            "Melbourne              Melbourne            Food\n",
            "Mexico City          Mexico City     Real Estate\n",
            "Miami                      Miami        Consumer\n",
            "Milwaukee              Milwaukee         Finance\n",
            "Minneapolis          Minneapolis         Finance\n",
            "Missoula                Missoula       Marketing\n",
            "Nashua                    Nashua  Infrastructure\n",
            "Nashville              Nashville  Transportation\n",
            "Nebraska City      Nebraska City          Crypto\n",
            "New Delhi              New Delhi              HR\n",
            "New Haven              New Haven      Healthcare\n",
            "New Hope                New Hope        Consumer\n",
            "New Orleans          New Orleans    Construction\n",
            "New York City      New York City     Real Estate\n",
            "Norfolk                  Norfolk       Logistics\n",
            "Norwalk                  Norwalk  Infrastructure\n",
            "Orlando                  Orlando         Finance\n",
            "Oxford                    Oxford        Security\n",
            "Philadelphia        Philadelphia            Food\n",
            "Phoenix                  Phoenix  Transportation\n",
            "Pittsburgh            Pittsburgh  Transportation\n",
            "Portland                Portland          Travel\n",
            "Providence            Providence        Consumer\n",
            "Raleigh                  Raleigh           Other\n",
            "Reno                        Reno     Real Estate\n",
            "Richmond                Richmond              HR\n",
            "SF Bay Area          SF Bay Area        Consumer\n",
            "Sacramento            Sacramento       Marketing\n",
            "Salt Lake City    Salt Lake City       Marketing\n",
            "San Antonio          San Antonio            Data\n",
            "San Diego              San Diego      Healthcare\n",
            "San Luis Obispo  San Luis Obispo         Fitness\n",
            "Santa Barbara      Santa Barbara            Food\n",
            "Santa Fe                Santa Fe           Media\n",
            "Sao Paulo              Sao Paulo            Food\n",
            "Seattle                  Seattle          Retail\n",
            "Selangor                Selangor        Consumer\n",
            "Singapore              Singapore          Crypto\n",
            "Spokane                  Spokane          Travel\n",
            "St. Louis              St. Louis         Support\n",
            "Stamford                Stamford      Healthcare\n",
            "Stockholm              Stockholm        Consumer\n",
            "Sydney                    Sydney      Healthcare\n",
            "Tampa Bay              Tampa Bay              HR\n",
            "Tel Aviv                Tel Aviv      Healthcare\n",
            "Tokyo                      Tokyo           Media\n",
            "Toronto                  Toronto         Finance\n",
            "Vancouver              Vancouver          Crypto\n",
            "Washington D.C.  Washington D.C.         Finance\n",
            "Wilmington            Wilmington          Crypto\n"
          ]
        }
      ]
    },
    {
      "cell_type": "code",
      "source": [
        "# Filter the data for rows where the country is 'United States'\n",
        "df_us = df[df['Country'] == 'United States']\n",
        "\n",
        "# Group the filtered data by 'Location_HQ' and 'Industry' and calculate the sum of 'Laid_Off_Count'\n",
        "grouped_data = df_us.groupby(['Location_HQ', 'Industry'])['Laid_Off_Count'].sum()\n",
        "\n",
        "# Reset the index to convert the grouped data into a DataFrame\n",
        "grouped_data = grouped_data.reset_index()\n",
        "\n",
        "# Find the industry with the highest layoffs for each location within the United States\n",
        "highest_layoffs_by_location = grouped_data.groupby('Location_HQ').apply(lambda x: x.loc[x['Laid_Off_Count'].idxmax()])\n",
        "\n",
        "# Print the industry with the highest layoffs for each location within the United States\n",
        "print(\"Industry with the highest layoffs for each location within the United States:\")\n",
        "print(highest_layoffs_by_location[['Location_HQ', 'Industry']])\n"
      ],
      "metadata": {
        "colab": {
          "base_uri": "https://localhost:8080/"
        },
        "id": "ZZlKTDSUUY9s",
        "outputId": "e74c1290-acbf-494d-9399-3e988a1780a6"
      },
      "execution_count": null,
      "outputs": [
        {
          "output_type": "stream",
          "name": "stdout",
          "text": [
            "Industry with the highest layoffs for each location within the United States:\n",
            "                     Location_HQ        Industry\n",
            "Location_HQ                                     \n",
            "Albany                    Albany          Retail\n",
            "Ann Arbor              Ann Arbor      Healthcare\n",
            "Atlanta                  Atlanta       Marketing\n",
            "Austin                    Austin        Hardware\n",
            "Baltimore              Baltimore            Data\n",
            "Baton Rouge          Baton Rouge        Consumer\n",
            "Beijing                  Beijing        Consumer\n",
            "Bend                        Bend        Consumer\n",
            "Berlin                    Berlin         Finance\n",
            "Birmingham            Birmingham     Real Estate\n",
            "Bismarck                Bismarck       Marketing\n",
            "Boise                      Boise        Hardware\n",
            "Boston                    Boston      Healthcare\n",
            "Boulder                  Boulder              HR\n",
            "Brisbane                Brisbane      Healthcare\n",
            "Burlington            Burlington         Finance\n",
            "Charleston            Charleston           Other\n",
            "Charlotte              Charlotte              HR\n",
            "Charlottesville  Charlottesville       Marketing\n",
            "Chennai                  Chennai            Food\n",
            "Chicago                  Chicago          Retail\n",
            "Cincinnati            Cincinnati            Food\n",
            "Cleveland              Cleveland           Other\n",
            "Columbus                Columbus      Healthcare\n",
            "Copenhagen            Copenhagen         Finance\n",
            "Dallas                    Dallas          Travel\n",
            "Davenport              Davenport      Healthcare\n",
            "Denver                    Denver            Food\n",
            "Detroit                  Detroit  Transportation\n",
            "Dover                      Dover           Other\n",
            "Dubai                      Dubai            Food\n",
            "Durham                    Durham       Marketing\n",
            "Eindhoven              Eindhoven       Logistics\n",
            "Fayetteville        Fayetteville          Retail\n",
            "Grand Rapids        Grand Rapids          Retail\n",
            "Houston                  Houston      Healthcare\n",
            "Huntsville            Huntsville          Retail\n",
            "Indianapolis        Indianapolis           Other\n",
            "Jersey City          Jersey City         Finance\n",
            "Kansas City          Kansas City      Healthcare\n",
            "Las Vegas              Las Vegas          Retail\n",
            "Lehi                        Lehi      Healthcare\n",
            "Lexington              Lexington           Other\n",
            "Little Rock          Little Rock       Marketing\n",
            "Logan                      Logan         Fitness\n",
            "London                    London              HR\n",
            "Los Angeles          Los Angeles        Consumer\n",
            "Louisville            Louisville      Healthcare\n",
            "Madison                  Madison          Retail\n",
            "Melbourne              Melbourne            Food\n",
            "Mexico City          Mexico City     Real Estate\n",
            "Miami                      Miami        Consumer\n",
            "Milwaukee              Milwaukee         Finance\n",
            "Minneapolis          Minneapolis         Finance\n",
            "Missoula                Missoula       Marketing\n",
            "Nashua                    Nashua  Infrastructure\n",
            "Nashville              Nashville  Transportation\n",
            "Nebraska City      Nebraska City          Crypto\n",
            "New Delhi              New Delhi              HR\n",
            "New Haven              New Haven      Healthcare\n",
            "New Hope                New Hope        Consumer\n",
            "New Orleans          New Orleans    Construction\n",
            "New York City      New York City     Real Estate\n",
            "Norfolk                  Norfolk       Logistics\n",
            "Norwalk                  Norwalk  Infrastructure\n",
            "Orlando                  Orlando         Finance\n",
            "Oxford                    Oxford        Security\n",
            "Philadelphia        Philadelphia            Food\n",
            "Phoenix                  Phoenix  Transportation\n",
            "Pittsburgh            Pittsburgh  Transportation\n",
            "Portland                Portland          Travel\n",
            "Providence            Providence        Consumer\n",
            "Raleigh                  Raleigh           Other\n",
            "Reno                        Reno     Real Estate\n",
            "Richmond                Richmond              HR\n",
            "SF Bay Area          SF Bay Area        Consumer\n",
            "Sacramento            Sacramento       Marketing\n",
            "Salt Lake City    Salt Lake City       Marketing\n",
            "San Antonio          San Antonio            Data\n",
            "San Diego              San Diego      Healthcare\n",
            "San Luis Obispo  San Luis Obispo         Fitness\n",
            "Santa Barbara      Santa Barbara            Food\n",
            "Santa Fe                Santa Fe           Media\n",
            "Sao Paulo              Sao Paulo            Food\n",
            "Seattle                  Seattle          Retail\n",
            "Selangor                Selangor        Consumer\n",
            "Singapore              Singapore          Crypto\n",
            "Spokane                  Spokane          Travel\n",
            "St. Louis              St. Louis         Support\n",
            "Stamford                Stamford      Healthcare\n",
            "Stockholm              Stockholm        Consumer\n",
            "Sydney                    Sydney      Healthcare\n",
            "Tampa Bay              Tampa Bay              HR\n",
            "Tel Aviv                Tel Aviv      Healthcare\n",
            "Tokyo                      Tokyo           Media\n",
            "Toronto                  Toronto         Finance\n",
            "Vancouver              Vancouver          Crypto\n",
            "Washington D.C.  Washington D.C.         Finance\n",
            "Wilmington            Wilmington          Crypto\n"
          ]
        }
      ]
    },
    {
      "cell_type": "code",
      "source": [
        "# Group the data by 'Industry' and 'Location_HQ' and calculate the sum of 'Laid_Off_Count'\n",
        "grouped_data = df.groupby(['Industry', 'Location_HQ'])['Laid_Off_Count'].sum()\n",
        "\n",
        "# Reset the index to convert the grouped data into a DataFrame\n",
        "grouped_data = grouped_data.reset_index()\n",
        "\n",
        "# Find the industry with the highest layoffs across all locations\n",
        "highest_layoffs_industry = grouped_data.groupby('Industry')['Laid_Off_Count'].sum().idxmax()\n",
        "\n",
        "# Print the industry with the highest layoffs across all locations\n",
        "print(\"Industry with highest layoffs across all locations:\", highest_layoffs_industry)\n"
      ],
      "metadata": {
        "colab": {
          "base_uri": "https://localhost:8080/"
        },
        "id": "qdBGsPqMSPwf",
        "outputId": "5c6526cc-09ce-4e41-f415-474aeb895c2d"
      },
      "execution_count": null,
      "outputs": [
        {
          "output_type": "stream",
          "name": "stdout",
          "text": [
            "Industry with highest layoffs across all locations: Retail\n"
          ]
        }
      ]
    },
    {
      "cell_type": "code",
      "source": [
        "import pandas as pd\n",
        "import matplotlib.pyplot as plt\n",
        "\n",
        "# Read the CSV file into a DataFrame\n",
        "\n",
        "\n",
        "# Group the data by \"Industry\" and calculate the sum of \"Laid_Off_Count\"\n",
        "industry_layoffs = df.groupby('Industry')['Laid_Off_Count'].sum()\n",
        "\n",
        "# Sort the data by the sum of layoffs in descending order\n",
        "industry_layoffs = industry_layoffs.sort_values(ascending=False)\n",
        "\n",
        "# Plot the relationship between industry and layoffs\n",
        "plt.figure(figsize=(15, 9))\n",
        "industry_layoffs.plot(kind='bar')\n",
        "plt.xlabel('Industry')\n",
        "plt.ylabel('Total Laid Off Count')\n",
        "plt.title('Relationship between Industry and Laid Off Count')\n",
        "plt.xticks(rotation=45)\n",
        "#plt.gca().invert_yaxis()\n",
        "plt.show()\n"
      ],
      "metadata": {
        "colab": {
          "base_uri": "https://localhost:8080/",
          "height": 862
        },
        "id": "VWCkE-HKXLTB",
        "outputId": "635dc9d2-33a7-4a7f-a7a6-192f015ceff7"
      },
      "execution_count": null,
      "outputs": [
        {
          "output_type": "display_data",
          "data": {
            "text/plain": [
              "<Figure size 1500x900 with 1 Axes>"
            ],
            "image/png": "[encoded data removed]"
          },
          "metadata": {}
        }
      ]
    },
    {
      "cell_type": "code",
      "source": [
        "import pandas as pd\n",
        "from sklearn.model_selection import train_test_split\n",
        "from sklearn.preprocessing import LabelEncoder\n",
        "from sklearn.ensemble import RandomForestClassifier\n",
        "from sklearn.metrics import accuracy_score, precision_score, recall_score, f1_score\n",
        "\n",
        "# Read the CSV file into a DataFrame\n",
        "#df = pd.read_csv('your_csv_file.csv')\n",
        "\n",
        "# Split the data into input features (X) and target variable (y)\n",
        "X = df[['Industry', 'Location_HQ', 'Funds_Raised']]\n",
        "y = df['Laid_Off_Count'].apply(lambda x: 1 if x > 0 else 0)  # Convert Laid_Off_Count to binary labels\n",
        "\n",
        "# Encode categorical variables\n",
        "encoder = LabelEncoder()\n",
        "X['Industry'] = encoder.fit_transform(X['Industry'])\n",
        "X['Location_HQ'] = encoder.fit_transform(X['Location_HQ'])\n",
        "\n",
        "# Split the data into training and testing sets\n",
        "X_train, X_test, y_train, y_test = train_test_split(X, y, test_size=0.2, random_state=42)\n",
        "\n",
        "# Choose a Random Forest classifier as the classification model\n",
        "classifier = RandomForestClassifier()\n",
        "\n",
        "# Train the model\n",
        "classifier.fit(X_train, y_train)\n",
        "\n",
        "# Make predictions on the testing set\n",
        "y_pred = classifier.predict(X_test)\n",
        "\n",
        "# Evaluate the model\n",
        "accuracy = accuracy_score(y_test, y_pred)\n",
        "precision = precision_score(y_test, y_pred)\n",
        "recall = recall_score(y_test, y_pred)\n",
        "f1 = f1_score(y_test, y_pred)\n",
        "\n",
        "print(\"Model Evaluation:\")\n",
        "print(\"Accuracy:\", accuracy)\n",
        "print(\"Precision:\", precision)\n",
        "print(\"Recall:\", recall)\n",
        "print(\"F1-Score:\", f1)\n",
        "\n",
        "# Feature Importance Analysis\n",
        "feature_importances = pd.Series(classifier.feature_importances_, index=X.columns)\n",
        "print(\"Feature Importances:\")\n",
        "print(feature_importances)\n"
      ],
      "metadata": {
        "colab": {
          "base_uri": "https://localhost:8080/"
        },
        "id": "yb9Qu1NfY_gV",
        "outputId": "a3862d2e-b8c1-4fb7-b17f-dad3fb8c3388"
      },
      "execution_count": null,
      "outputs": [
        {
          "output_type": "stream",
          "name": "stdout",
          "text": [
            "Model Evaluation:\n",
            "Accuracy: 1.0\n",
            "Precision: 1.0\n",
            "Recall: 1.0\n",
            "F1-Score: 1.0\n",
            "Feature Importances:\n",
            "Industry        0.0\n",
            "Location_HQ     0.0\n",
            "Funds_Raised    0.0\n",
            "dtype: float64\n"
          ]
        },
        {
          "output_type": "stream",
          "name": "stderr",
          "text": [
            "<ipython-input-87-fc3f890216ce>:16: SettingWithCopyWarning: \n",
            "A value is trying to be set on a copy of a slice from a DataFrame.\n",
            "Try using .loc[row_indexer,col_indexer] = value instead\n",
            "\n",
            "See the caveats in the documentation: https://pandas.pydata.org/pandas-docs/stable/user_guide/indexing.html#returning-a-view-versus-a-copy\n",
            "  X['Industry'] = encoder.fit_transform(X['Industry'])\n",
            "<ipython-input-87-fc3f890216ce>:17: SettingWithCopyWarning: \n",
            "A value is trying to be set on a copy of a slice from a DataFrame.\n",
            "Try using .loc[row_indexer,col_indexer] = value instead\n",
            "\n",
            "See the caveats in the documentation: https://pandas.pydata.org/pandas-docs/stable/user_guide/indexing.html#returning-a-view-versus-a-copy\n",
            "  X['Location_HQ'] = encoder.fit_transform(X['Location_HQ'])\n"
          ]
        }
      ]
    },
    {
      "cell_type": "code",
      "source": [
        "import pandas as pd\n",
        "from sklearn.model_selection import train_test_split\n",
        "from sklearn.preprocessing import LabelEncoder\n",
        "from sklearn.ensemble import RandomForestClassifier\n",
        "from sklearn.metrics import accuracy_score, precision_score, recall_score, f1_score\n",
        "\n",
        "# Read the CSV file into a DataFrame\n",
        "#df = pd.read_csv('layoffs_data.csv')\n",
        "\n",
        "# Drop rows where the Country is not the United States\n",
        "#df = df[df['Country'] == 'United States']\n",
        "\n",
        "# Split the data into input features (X) and target variable (y)\n",
        "X = df[['Industry', 'Location_HQ', 'Funds_Raised']]\n",
        "y = df['Laid_Off_Count'].apply(lambda x: 1 if x > 0 else 0)  # Convert Laid_Off_Count to binary labels\n",
        "\n",
        "# Encode categorical variables\n",
        "encoder = LabelEncoder()\n",
        "X.loc[:, 'Industry'] = encoder.fit_transform(X.loc[:, 'Industry'])\n",
        "X.loc[:, 'Location_HQ'] = encoder.fit_transform(X.loc[:, 'Location_HQ'])\n",
        "\n",
        "# Split the data into training and testing sets\n",
        "X_train, X_test, y_train, y_test = train_test_split(X, y, test_size=0.2, random_state=42)\n",
        "\n",
        "# Choose a Random Forest classifier as the classification model\n",
        "classifier = RandomForestClassifier()\n",
        "\n",
        "# Train the model\n",
        "classifier.fit(X_train, y_train)\n",
        "\n",
        "# Make predictions on the testing set\n",
        "y_pred = classifier.predict(X_test)\n",
        "\n",
        "# Evaluate the model\n",
        "accuracy = accuracy_score(y_test, y_pred)\n",
        "precision = precision_score(y_test, y_pred)\n",
        "recall = recall_score(y_test, y_pred)\n",
        "f1 = f1_score(y_test, y_pred)\n",
        "\n",
        "print(\"Model Evaluation:\")\n",
        "print(\"Accuracy:\", accuracy)\n",
        "print(\"Precision:\", precision)\n",
        "print(\"Recall:\", recall)\n",
        "print(\"F1-Score:\", f1)\n",
        "\n",
        "# Feature Importance Analysis\n",
        "feature_importances = pd.Series(classifier.feature_importances_, index=X.columns)\n",
        "print(\"Feature Importances:\")\n",
        "print(feature_importances)\n"
      ],
      "metadata": {
        "colab": {
          "base_uri": "https://localhost:8080/",
          "height": 747
        },
        "id": "3iTdixz_Zzeg",
        "outputId": "524ed154-1548-4660-fd2a-3d0d7b9aaf2a"
      },
      "execution_count": null,
      "outputs": [
        {
          "output_type": "stream",
          "name": "stderr",
          "text": [
            "<ipython-input-93-d8b12da78472>:19: SettingWithCopyWarning: \n",
            "A value is trying to be set on a copy of a slice from a DataFrame.\n",
            "Try using .loc[row_indexer,col_indexer] = value instead\n",
            "\n",
            "See the caveats in the documentation: https://pandas.pydata.org/pandas-docs/stable/user_guide/indexing.html#returning-a-view-versus-a-copy\n",
            "  X.loc[:, 'Industry'] = encoder.fit_transform(X.loc[:, 'Industry'])\n",
            "<ipython-input-93-d8b12da78472>:19: DeprecationWarning: In a future version, `df.iloc[:, i] = newvals` will attempt to set the values inplace instead of always setting a new array. To retain the old behavior, use either `df[df.columns[i]] = newvals` or, if columns are non-unique, `df.isetitem(i, newvals)`\n",
            "  X.loc[:, 'Industry'] = encoder.fit_transform(X.loc[:, 'Industry'])\n",
            "<ipython-input-93-d8b12da78472>:20: SettingWithCopyWarning: \n",
            "A value is trying to be set on a copy of a slice from a DataFrame.\n",
            "Try using .loc[row_indexer,col_indexer] = value instead\n",
            "\n",
            "See the caveats in the documentation: https://pandas.pydata.org/pandas-docs/stable/user_guide/indexing.html#returning-a-view-versus-a-copy\n",
            "  X.loc[:, 'Location_HQ'] = encoder.fit_transform(X.loc[:, 'Location_HQ'])\n",
            "<ipython-input-93-d8b12da78472>:20: DeprecationWarning: In a future version, `df.iloc[:, i] = newvals` will attempt to set the values inplace instead of always setting a new array. To retain the old behavior, use either `df[df.columns[i]] = newvals` or, if columns are non-unique, `df.isetitem(i, newvals)`\n",
            "  X.loc[:, 'Location_HQ'] = encoder.fit_transform(X.loc[:, 'Location_HQ'])\n"
          ]
        },
        {
          "output_type": "error",
          "ename": "ValueError",
          "evalue": "ignored",
          "traceback": [
            "\u001b[0;31m---------------------------------------------------------------------------\u001b[0m",
            "\u001b[0;31mValueError\u001b[0m                                Traceback (most recent call last)",
            "\u001b[0;32m<ipython-input-93-d8b12da78472>\u001b[0m in \u001b[0;36m<cell line: 29>\u001b[0;34m()\u001b[0m\n\u001b[1;32m     27\u001b[0m \u001b[0;34m\u001b[0m\u001b[0m\n\u001b[1;32m     28\u001b[0m \u001b[0;31m# Train the model\u001b[0m\u001b[0;34m\u001b[0m\u001b[0;34m\u001b[0m\u001b[0m\n\u001b[0;32m---> 29\u001b[0;31m \u001b[0mclassifier\u001b[0m\u001b[0;34m.\u001b[0m\u001b[0mfit\u001b[0m\u001b[0;34m(\u001b[0m\u001b[0mX_train\u001b[0m\u001b[0;34m,\u001b[0m \u001b[0my_train\u001b[0m\u001b[0;34m)\u001b[0m\u001b[0;34m\u001b[0m\u001b[0;34m\u001b[0m\u001b[0m\n\u001b[0m\u001b[1;32m     30\u001b[0m \u001b[0;34m\u001b[0m\u001b[0m\n\u001b[1;32m     31\u001b[0m \u001b[0;31m# Make predictions on the testing set\u001b[0m\u001b[0;34m\u001b[0m\u001b[0;34m\u001b[0m\u001b[0m\n",
            "\u001b[0;32m/usr/local/lib/python3.10/dist-packages/sklearn/ensemble/_forest.py\u001b[0m in \u001b[0;36mfit\u001b[0;34m(self, X, y, sample_weight)\u001b[0m\n\u001b[1;32m    343\u001b[0m         \u001b[0;32mif\u001b[0m \u001b[0missparse\u001b[0m\u001b[0;34m(\u001b[0m\u001b[0my\u001b[0m\u001b[0;34m)\u001b[0m\u001b[0;34m:\u001b[0m\u001b[0;34m\u001b[0m\u001b[0;34m\u001b[0m\u001b[0m\n\u001b[1;32m    344\u001b[0m             \u001b[0;32mraise\u001b[0m \u001b[0mValueError\u001b[0m\u001b[0;34m(\u001b[0m\u001b[0;34m\"sparse multilabel-indicator for y is not supported.\"\u001b[0m\u001b[0;34m)\u001b[0m\u001b[0;34m\u001b[0m\u001b[0;34m\u001b[0m\u001b[0m\n\u001b[0;32m--> 345\u001b[0;31m         X, y = self._validate_data(\n\u001b[0m\u001b[1;32m    346\u001b[0m             \u001b[0mX\u001b[0m\u001b[0;34m,\u001b[0m \u001b[0my\u001b[0m\u001b[0;34m,\u001b[0m \u001b[0mmulti_output\u001b[0m\u001b[0;34m=\u001b[0m\u001b[0;32mTrue\u001b[0m\u001b[0;34m,\u001b[0m \u001b[0maccept_sparse\u001b[0m\u001b[0;34m=\u001b[0m\u001b[0;34m\"csc\"\u001b[0m\u001b[0;34m,\u001b[0m \u001b[0mdtype\u001b[0m\u001b[0;34m=\u001b[0m\u001b[0mDTYPE\u001b[0m\u001b[0;34m\u001b[0m\u001b[0;34m\u001b[0m\u001b[0m\n\u001b[1;32m    347\u001b[0m         )\n",
            "\u001b[0;32m/usr/local/lib/python3.10/dist-packages/sklearn/base.py\u001b[0m in \u001b[0;36m_validate_data\u001b[0;34m(self, X, y, reset, validate_separately, **check_params)\u001b[0m\n\u001b[1;32m    582\u001b[0m                 \u001b[0my\u001b[0m \u001b[0;34m=\u001b[0m \u001b[0mcheck_array\u001b[0m\u001b[0;34m(\u001b[0m\u001b[0my\u001b[0m\u001b[0;34m,\u001b[0m \u001b[0minput_name\u001b[0m\u001b[0;34m=\u001b[0m\u001b[0;34m\"y\"\u001b[0m\u001b[0;34m,\u001b[0m \u001b[0;34m**\u001b[0m\u001b[0mcheck_y_params\u001b[0m\u001b[0;34m)\u001b[0m\u001b[0;34m\u001b[0m\u001b[0;34m\u001b[0m\u001b[0m\n\u001b[1;32m    583\u001b[0m             \u001b[0;32melse\u001b[0m\u001b[0;34m:\u001b[0m\u001b[0;34m\u001b[0m\u001b[0;34m\u001b[0m\u001b[0m\n\u001b[0;32m--> 584\u001b[0;31m                 \u001b[0mX\u001b[0m\u001b[0;34m,\u001b[0m \u001b[0my\u001b[0m \u001b[0;34m=\u001b[0m \u001b[0mcheck_X_y\u001b[0m\u001b[0;34m(\u001b[0m\u001b[0mX\u001b[0m\u001b[0;34m,\u001b[0m \u001b[0my\u001b[0m\u001b[0;34m,\u001b[0m \u001b[0;34m**\u001b[0m\u001b[0mcheck_params\u001b[0m\u001b[0;34m)\u001b[0m\u001b[0;34m\u001b[0m\u001b[0;34m\u001b[0m\u001b[0m\n\u001b[0m\u001b[1;32m    585\u001b[0m             \u001b[0mout\u001b[0m \u001b[0;34m=\u001b[0m \u001b[0mX\u001b[0m\u001b[0;34m,\u001b[0m \u001b[0my\u001b[0m\u001b[0;34m\u001b[0m\u001b[0;34m\u001b[0m\u001b[0m\n\u001b[1;32m    586\u001b[0m \u001b[0;34m\u001b[0m\u001b[0m\n",
            "\u001b[0;32m/usr/local/lib/python3.10/dist-packages/sklearn/utils/validation.py\u001b[0m in \u001b[0;36mcheck_X_y\u001b[0;34m(X, y, accept_sparse, accept_large_sparse, dtype, order, copy, force_all_finite, ensure_2d, allow_nd, multi_output, ensure_min_samples, ensure_min_features, y_numeric, estimator)\u001b[0m\n\u001b[1;32m   1104\u001b[0m         )\n\u001b[1;32m   1105\u001b[0m \u001b[0;34m\u001b[0m\u001b[0m\n\u001b[0;32m-> 1106\u001b[0;31m     X = check_array(\n\u001b[0m\u001b[1;32m   1107\u001b[0m         \u001b[0mX\u001b[0m\u001b[0;34m,\u001b[0m\u001b[0;34m\u001b[0m\u001b[0;34m\u001b[0m\u001b[0m\n\u001b[1;32m   1108\u001b[0m         \u001b[0maccept_sparse\u001b[0m\u001b[0;34m=\u001b[0m\u001b[0maccept_sparse\u001b[0m\u001b[0;34m,\u001b[0m\u001b[0;34m\u001b[0m\u001b[0;34m\u001b[0m\u001b[0m\n",
            "\u001b[0;32m/usr/local/lib/python3.10/dist-packages/sklearn/utils/validation.py\u001b[0m in \u001b[0;36mcheck_array\u001b[0;34m(array, accept_sparse, accept_large_sparse, dtype, order, copy, force_all_finite, ensure_2d, allow_nd, ensure_min_samples, ensure_min_features, estimator, input_name)\u001b[0m\n\u001b[1;32m    919\u001b[0m \u001b[0;34m\u001b[0m\u001b[0m\n\u001b[1;32m    920\u001b[0m         \u001b[0;32mif\u001b[0m \u001b[0mforce_all_finite\u001b[0m\u001b[0;34m:\u001b[0m\u001b[0;34m\u001b[0m\u001b[0;34m\u001b[0m\u001b[0m\n\u001b[0;32m--> 921\u001b[0;31m             _assert_all_finite(\n\u001b[0m\u001b[1;32m    922\u001b[0m                 \u001b[0marray\u001b[0m\u001b[0;34m,\u001b[0m\u001b[0;34m\u001b[0m\u001b[0;34m\u001b[0m\u001b[0m\n\u001b[1;32m    923\u001b[0m                 \u001b[0minput_name\u001b[0m\u001b[0;34m=\u001b[0m\u001b[0minput_name\u001b[0m\u001b[0;34m,\u001b[0m\u001b[0;34m\u001b[0m\u001b[0;34m\u001b[0m\u001b[0m\n",
            "\u001b[0;32m/usr/local/lib/python3.10/dist-packages/sklearn/utils/validation.py\u001b[0m in \u001b[0;36m_assert_all_finite\u001b[0;34m(X, allow_nan, msg_dtype, estimator_name, input_name)\u001b[0m\n\u001b[1;32m    159\u001b[0m                 \u001b[0;34m\"#estimators-that-handle-nan-values\"\u001b[0m\u001b[0;34m\u001b[0m\u001b[0;34m\u001b[0m\u001b[0m\n\u001b[1;32m    160\u001b[0m             )\n\u001b[0;32m--> 161\u001b[0;31m         \u001b[0;32mraise\u001b[0m \u001b[0mValueError\u001b[0m\u001b[0;34m(\u001b[0m\u001b[0mmsg_err\u001b[0m\u001b[0;34m)\u001b[0m\u001b[0;34m\u001b[0m\u001b[0;34m\u001b[0m\u001b[0m\n\u001b[0m\u001b[1;32m    162\u001b[0m \u001b[0;34m\u001b[0m\u001b[0m\n\u001b[1;32m    163\u001b[0m \u001b[0;34m\u001b[0m\u001b[0m\n",
            "\u001b[0;31mValueError\u001b[0m: Input X contains NaN.\nRandomForestClassifier does not accept missing values encoded as NaN natively. For supervised learning, you might want to consider sklearn.ensemble.HistGradientBoostingClassifier and Regressor which accept missing values encoded as NaNs natively. Alternatively, it is possible to preprocess the data, for instance by using an imputer transformer in a pipeline or drop samples with missing values. See https://scikit-learn.org/stable/modules/impute.html You can find a list of all estimators that handle NaN values at the following page: https://scikit-learn.org/stable/modules/impute.html#estimators-that-handle-nan-values"
          ]
        }
      ]
    },
    {
      "cell_type": "markdown",
      "source": [
        "**knn**"
      ],
      "metadata": {
        "id": "661T6lPnbag3"
      }
    },
    {
      "cell_type": "code",
      "source": [
        "import pandas as pd\n",
        "from sklearn.model_selection import train_test_split\n",
        "from sklearn.preprocessing import LabelEncoder\n",
        "from sklearn.neighbors import KNeighborsClassifier\n",
        "from sklearn.metrics import accuracy_score, precision_score, recall_score, f1_score\n",
        "df = df[df['Country'] == 'United States']\n",
        "X = df[['Industry', 'Location_HQ', 'Funds_Raised']]\n",
        "y = df['Laid_Off_Count'].apply(lambda x: 1 if x > 0 else 0) # Convert Laid_Off_Count to binary labels\n",
        "encoder = LabelEncoder()\n",
        "X.loc[:, 'Industry'] = encoder.fit_transform(X.loc[:, 'Industry'])\n",
        "X.loc[:, 'Location_HQ'] = encoder.fit_transform(X.loc[:, 'Location_HQ'])\n",
        "X_train, X_test, y_train, y_test = train_test_split(X, y, test_size=0.2, random_state=42)\n",
        "classifier = KNeighborsClassifier()\n",
        "classifier.fit(X_train, y_train)\n",
        "y_pred = classifier.predict(X_test)\n",
        "accuracy = accuracy_score(y_test, y_pred)\n",
        "precision = precision_score(y_test, y_pred)\n",
        "recall = recall_score(y_test, y_pred)\n",
        "f1 = f1_score(y_test, y_pred)\n",
        "\n",
        "print(\"Model Evaluation:\")\n",
        "print(\"Accuracy:\", accuracy)\n",
        "print(\"Precision:\", precision)\n",
        "print(\"Recall:\", recall)\n",
        "print(\"F1-Score:\", f1)\n",
        "\n",
        "#Feature Importance Analysis (Not applicable for K-Nearest Neighbors)\n",
        "print(\"Feature Importances: N/A for K-Nearest Neighbors\")\n",
        "\n",
        "\n"
      ],
      "metadata": {
        "colab": {
          "base_uri": "https://localhost:8080/"
        },
        "id": "VT7-3dplbdct",
        "outputId": "8796365f-31ba-4e6d-9c3b-3b37edf74b0c"
      },
      "execution_count": null,
      "outputs": [
        {
          "output_type": "stream",
          "name": "stdout",
          "text": [
            "Model Evaluation:\n",
            "Accuracy: 1.0\n",
            "Precision: 1.0\n",
            "Recall: 1.0\n",
            "F1-Score: 1.0\n",
            "Feature Importances: N/A for K-Nearest Neighbors\n"
          ]
        },
        {
          "output_type": "stream",
          "name": "stderr",
          "text": [
            "<ipython-input-90-9f8313a35035>:10: SettingWithCopyWarning: \n",
            "A value is trying to be set on a copy of a slice from a DataFrame.\n",
            "Try using .loc[row_indexer,col_indexer] = value instead\n",
            "\n",
            "See the caveats in the documentation: https://pandas.pydata.org/pandas-docs/stable/user_guide/indexing.html#returning-a-view-versus-a-copy\n",
            "  X.loc[:, 'Industry'] = encoder.fit_transform(X.loc[:, 'Industry'])\n",
            "<ipython-input-90-9f8313a35035>:10: DeprecationWarning: In a future version, `df.iloc[:, i] = newvals` will attempt to set the values inplace instead of always setting a new array. To retain the old behavior, use either `df[df.columns[i]] = newvals` or, if columns are non-unique, `df.isetitem(i, newvals)`\n",
            "  X.loc[:, 'Industry'] = encoder.fit_transform(X.loc[:, 'Industry'])\n",
            "<ipython-input-90-9f8313a35035>:11: SettingWithCopyWarning: \n",
            "A value is trying to be set on a copy of a slice from a DataFrame.\n",
            "Try using .loc[row_indexer,col_indexer] = value instead\n",
            "\n",
            "See the caveats in the documentation: https://pandas.pydata.org/pandas-docs/stable/user_guide/indexing.html#returning-a-view-versus-a-copy\n",
            "  X.loc[:, 'Location_HQ'] = encoder.fit_transform(X.loc[:, 'Location_HQ'])\n",
            "<ipython-input-90-9f8313a35035>:11: DeprecationWarning: In a future version, `df.iloc[:, i] = newvals` will attempt to set the values inplace instead of always setting a new array. To retain the old behavior, use either `df[df.columns[i]] = newvals` or, if columns are non-unique, `df.isetitem(i, newvals)`\n",
            "  X.loc[:, 'Location_HQ'] = encoder.fit_transform(X.loc[:, 'Location_HQ'])\n"
          ]
        }
      ]
    },
    {
      "cell_type": "code",
      "source": [
        "import pandas as pd\n",
        "from mlxtend.preprocessing import TransactionEncoder\n",
        "from mlxtend.frequent_patterns import apriori, association_rules\n",
        "\n",
        "# Read the CSV file into a DataFrame\n",
        "#df = pd.read_csv('layoffs_data.csv')\n",
        "\n",
        "# Drop rows where the Country is not the United States\n",
        "#df = df[df['Country'] == 'United States']\n",
        "\n",
        "# Preprocess the data\n",
        "df = df.dropna()  # Remove rows with missing values\n",
        "df = df[['Funds_Raised', 'Percentage']]  # Select relevant columns\n",
        "\n",
        "\n",
        "# Transform the data into a transaction format\n",
        "transactions = df.groupby('Funds_Raised')['Percentage'].apply(list).values.tolist()\n",
        "\n",
        "# Encode the transactions\n",
        "te = TransactionEncoder()\n",
        "te_array = te.fit_transform(transactions)\n",
        "df_encoded = pd.DataFrame(te_array, columns=te.columns_)\n",
        "\n",
        "# Apply association rule mining\n",
        "frequent_itemsets = apriori(df_encoded, min_support=0.1, use_colnames=True)\n",
        "association_rules = association_rules(frequent_itemsets, metric='confidence', min_threshold=0.7)\n",
        "\n",
        "# Print the frequent itemsets\n",
        "print(\"Frequent Itemsets:\")\n",
        "print(frequent_itemsets)\n",
        "\n",
        "# Print the association rules\n",
        "print(\"Association Rules:\")\n",
        "print(association_rules)\n"
      ],
      "metadata": {
        "colab": {
          "base_uri": "https://localhost:8080/"
        },
        "id": "jRppEYtOL257",
        "outputId": "2d7beb64-b8d1-46ff-fb20-74194cbb1f11"
      },
      "execution_count": null,
      "outputs": [
        {
          "output_type": "stream",
          "name": "stdout",
          "text": [
            "Frequent Itemsets:\n",
            "    support                   itemsets\n",
            "0  0.213855                      (0.1)\n",
            "1  0.150602                     (0.15)\n",
            "2  0.162651                      (0.2)\n",
            "3  0.115964                     (0.25)\n",
            "4  0.581325       (0.2617837157246783)\n",
            "5  0.103916                      (0.3)\n",
            "6  0.102410                      (1.0)\n",
            "7  0.129518  (0.2617837157246783, 0.1)\n",
            "8  0.114458  (0.2617837157246783, 0.2)\n",
            "Association Rules:\n",
            "  antecedents           consequents  antecedent support  consequent support  \\\n",
            "0       (0.2)  (0.2617837157246783)            0.162651            0.581325   \n",
            "\n",
            "    support  confidence      lift  leverage  conviction  \n",
            "0  0.114458    0.703704  1.210516  0.019905    1.413027  \n"
          ]
        }
      ]
    },
    {
      "cell_type": "markdown",
      "source": [
        "**Causation**"
      ],
      "metadata": {
        "id": "iGFyuvkYaney"
      }
    },
    {
      "cell_type": "code",
      "source": [
        "import pandas as pd\n",
        "import numpy as np\n",
        "import statsmodels.api as sm\n",
        "import seaborn as sns\n",
        "import matplotlib.pyplot as plt\n",
        "\n",
        "# Step 1: Define your research question\n",
        "# Hypothesis: There is a causal relationship between the amount of funds raised and the percentage of layoffs.\n",
        "\n",
        "# Step 2: Design a study\n",
        "# Assuming you have a CSV file named 'data.csv' with columns 'Funds_Raised' and 'Percentage'\n",
        "\n",
        "# Step 3: Identify causal mechanisms\n",
        "# Load the data\n",
        "#df = pd.read_csv('data.csv')\n",
        "\n",
        "# Explore and visualize the relationship between 'Funds_Raised' and 'Percentage'\n",
        "sns.scatterplot(data=df, x='Funds_Raised', y='Percentage')\n",
        "plt.xlabel('Funds Raised')\n",
        "plt.ylabel('Percentage')\n",
        "plt.show()\n",
        "\n",
        "# Calculate descriptive statistics\n",
        "correlation = df['Funds_Raised'].corr(df['Percentage'])\n",
        "print(f\"Correlation between Funds Raised and Percentage: {correlation}\")\n",
        "\n",
        "# Step 4: Control for confounding variables\n",
        "# Perform multiple regression to control for confounding variables\n",
        "X = df['Funds_Raised']\n",
        "X = sm.add_constant(X)\n",
        "y = df['Percentage']\n",
        "\n",
        "model = sm.OLS(y, X)\n",
        "results = model.fit()\n",
        "print(results.summary())\n",
        "\n",
        "# Step 5: Analyze the data\n",
        "# Interpret the results and draw conclusions based on the analysis\n",
        "p_value = results.pvalues['Funds_Raised']\n",
        "if p_value < 0.05:\n",
        "    print(\"There is a significant relationship between Funds Raised and Percentage.\")\n",
        "else:\n",
        "    print(\"There is no significant relationship between Funds Raised and Percentage.\")\n"
      ],
      "metadata": {
        "colab": {
          "base_uri": "https://localhost:8080/",
          "height": 952
        },
        "id": "Nfl1G6Swap0F",
        "outputId": "5ba4695a-e522-4349-88df-2ce5a049efb3"
      },
      "execution_count": null,
      "outputs": [
        {
          "output_type": "display_data",
          "data": {
            "text/plain": [
              "<Figure size 640x480 with 1 Axes>"
            ],
            "image/png": "[encoded data removed]"
          },
          "metadata": {}
        },
        {
          "output_type": "stream",
          "name": "stdout",
          "text": [
            "Correlation between Funds Raised and Percentage: -0.04247288809378125\n",
            "                            OLS Regression Results                            \n",
            "==============================================================================\n",
            "Dep. Variable:             Percentage   R-squared:                       0.002\n",
            "Model:                            OLS   Adj. R-squared:                  0.001\n",
            "Method:                 Least Squares   F-statistic:                     4.852\n",
            "Date:                Fri, 16 Jun 2023   Prob (F-statistic):             0.0277\n",
            "Time:                        04:16:12   Log-Likelihood:                 347.47\n",
            "No. Observations:                2687   AIC:                            -690.9\n",
            "Df Residuals:                    2685   BIC:                            -679.2\n",
            "Df Model:                           1                                         \n",
            "Covariance Type:            nonrobust                                         \n",
            "================================================================================\n",
            "                   coef    std err          t      P>|t|      [0.025      0.975]\n",
            "--------------------------------------------------------------------------------\n",
            "const            0.2632      0.004     63.361      0.000       0.255       0.271\n",
            "Funds_Raised -1.794e-06   8.14e-07     -2.203      0.028   -3.39e-06   -1.97e-07\n",
            "==============================================================================\n",
            "Omnibus:                     1249.417   Durbin-Watson:                   1.899\n",
            "Prob(Omnibus):                  0.000   Jarque-Bera (JB):             5624.705\n",
            "Skew:                           2.292   Prob(JB):                         0.00\n",
            "Kurtosis:                       8.406   Cond. No.                     5.16e+03\n",
            "==============================================================================\n",
            "\n",
            "Notes:\n",
            "[1] Standard Errors assume that the covariance matrix of the errors is correctly specified.\n",
            "[2] The condition number is large, 5.16e+03. This might indicate that there are\n",
            "strong multicollinearity or other numerical problems.\n",
            "There is a significant relationship between Funds Raised and Percentage.\n"
          ]
        }
      ]
    }
  ]
}